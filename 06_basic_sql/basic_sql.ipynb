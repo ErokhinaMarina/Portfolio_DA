{
 "cells": [
  {
   "cell_type": "markdown",
   "id": "986468e2",
   "metadata": {},
   "source": [
    "# Задания"
   ]
  },
  {
   "cell_type": "markdown",
   "id": "d89be118",
   "metadata": {},
   "source": [
    "В самостоятельном проекте вам нужно проанализировать данные о фондах и инвестициях и написать запросы к базе. Задания будут постепенно усложняться, но всё необходимое для их выполнения: операторы, функции, методы работы с базой — вы уже изучили на курсе. К каждому заданию будет небольшая подсказка: она направит вас в нужную сторону, но подробного плана действий не предложит."
   ]
  },
  {
   "cell_type": "markdown",
   "id": "861b27e3",
   "metadata": {},
   "source": [
    "1. Посчитайте, сколько компаний закрылось."
   ]
  },
  {
   "cell_type": "code",
   "execution_count": null,
   "id": "c1e8ed8d",
   "metadata": {},
   "outputs": [],
   "source": [
    "SELECT COUNT(id)\n",
    "FROM company\n",
    "WHERE status = 'closed';"
   ]
  },
  {
   "cell_type": "markdown",
   "id": "dc511a44",
   "metadata": {},
   "source": [
    "2. Отобразите количество привлечённых средств для новостных компаний США. Используйте данные из таблицы company. Отсортируйте таблицу по убыванию значений в поле funding_total ."
   ]
  },
  {
   "cell_type": "code",
   "execution_count": null,
   "id": "8e39e4f7",
   "metadata": {},
   "outputs": [],
   "source": [
    "SELECT funding_total\n",
    "FROM company\n",
    "WHERE category_code = 'news' AND country_code = 'USA'\n",
    "ORDER BY funding_total DESC;"
   ]
  },
  {
   "cell_type": "markdown",
   "id": "9f585596",
   "metadata": {},
   "source": [
    "3. Найдите общую сумму сделок по покупке одних компаний другими в долларах. Отберите сделки, которые осуществлялись только за наличные с 2011 по 2013 год включительно."
   ]
  },
  {
   "cell_type": "code",
   "execution_count": null,
   "id": "4b79d096",
   "metadata": {},
   "outputs": [],
   "source": [
    "SELECT SUM(price_amount)\n",
    "FROM acquisition\n",
    "WHERE EXTRACT(YEAR FROM (CAST(acquired_at AS date))) BETWEEN 2011 AND 2013\n",
    "AND term_code = 'cash';"
   ]
  },
  {
   "cell_type": "markdown",
   "id": "6275bd6d",
   "metadata": {},
   "source": [
    "4. Отобразите имя, фамилию и названия аккаунтов людей в поле network_username, у которых названия аккаунтов начинаются на 'Silver'."
   ]
  },
  {
   "cell_type": "code",
   "execution_count": null,
   "id": "62575c1a",
   "metadata": {},
   "outputs": [],
   "source": [
    "SELECT first_name,\n",
    "       last_name,\n",
    "       twitter_username\n",
    "FROM people\n",
    "WHERE twitter_username LIKE 'Silver%';"
   ]
  },
  {
   "cell_type": "markdown",
   "id": "c39716f3",
   "metadata": {},
   "source": [
    "5. Выведите на экран всю информацию о людях, у которых названия аккаунтов в поле network_username содержат подстроку 'money', а фамилия начинается на 'K'."
   ]
  },
  {
   "cell_type": "code",
   "execution_count": null,
   "id": "2e43578c",
   "metadata": {},
   "outputs": [],
   "source": [
    "SELECT *\n",
    "FROM people\n",
    "WHERE twitter_username LIKE '%money%'\n",
    "AND last_name LIKE 'K%';"
   ]
  },
  {
   "cell_type": "markdown",
   "id": "54d21374",
   "metadata": {},
   "source": [
    "6. Для каждой страны отобразите общую сумму привлечённых инвестиций, которые получили компании, зарегистрированные в этой стране. Страну, в которой зарегистрирована компания, можно определить по коду страны. Отсортируйте данные по убыванию суммы."
   ]
  },
  {
   "cell_type": "code",
   "execution_count": null,
   "id": "74e8de32",
   "metadata": {},
   "outputs": [],
   "source": [
    "SELECT country_code, SUM(funding_total)\n",
    "FROM company\n",
    "GROUP BY country_code\n",
    "ORDER BY SUM(funding_total) DESC;"
   ]
  },
  {
   "cell_type": "markdown",
   "id": "4714a36f",
   "metadata": {},
   "source": [
    "7. Составьте таблицу, в которую войдёт дата проведения раунда, а также минимальное и максимальное значения суммы инвестиций, привлечённых в эту дату. Оставьте в итоговой таблице только те записи, в которых минимальное значение суммы инвестиций не равно нулю и не равно максимальному значению."
   ]
  },
  {
   "cell_type": "code",
   "execution_count": null,
   "id": "32db365b",
   "metadata": {},
   "outputs": [],
   "source": [
    "SELECT CAST(funded_at AS date),\n",
    "       MIN(raised_amount),\n",
    "       MAX(raised_amount)\n",
    "FROM funding_round\n",
    "GROUP BY CAST(funded_at AS date)\n",
    "HAVING MIN(raised_amount) <> 0\n",
    "AND MIN(raised_amount) <>  MAX(raised_amount);"
   ]
  },
  {
   "cell_type": "markdown",
   "id": "b34f6ea7",
   "metadata": {},
   "source": [
    "8. Создайте поле с категориями:\n",
    "\n",
    "* Для фондов, которые инвестируют в 100 и более компаний, назначьте категорию high_activity.\n",
    "* Для фондов, которые инвестируют в 20 и более компаний до 100, назначьте категорию middle_activity.\n",
    "* Если количество инвестируемых компаний фонда не достигает 20, назначьте категорию low_activity.\n",
    "\n",
    "Отобразите все поля таблицы fund и новое поле с категориями."
   ]
  },
  {
   "cell_type": "code",
   "execution_count": null,
   "id": "b3ce4273",
   "metadata": {},
   "outputs": [],
   "source": [
    "SELECT *,\n",
    "    CASE\n",
    "        WHEN invested_companies >= 100 THEN 'high_activity'\n",
    "        WHEN invested_companies >=20 AND invested_companies < 100 THEN 'middle_activity'\n",
    "        WHEN invested_companies < 20 THEN 'low_activity'\n",
    "    END\n",
    "FROM fund;"
   ]
  },
  {
   "cell_type": "markdown",
   "id": "e686a008",
   "metadata": {},
   "source": [
    "9. Для каждой из категорий, назначенных в предыдущем задании, посчитайте округлённое до ближайшего целого числа среднее количество инвестиционных раундов, в которых фонд принимал участие. Выведите на экран категории и среднее число инвестиционных раундов. Отсортируйте таблицу по возрастанию среднего."
   ]
  },
  {
   "cell_type": "code",
   "execution_count": null,
   "id": "fe20d243",
   "metadata": {},
   "outputs": [],
   "source": [
    "SELECT \n",
    "       CASE\n",
    "           WHEN invested_companies>=100 THEN 'high_activity'\n",
    "           WHEN invested_companies>=20 THEN 'middle_activity'\n",
    "           ELSE 'low_activity'\n",
    "       END AS activity,\n",
    "ROUND(AVG(investment_rounds))\n",
    "FROM fund\n",
    "GROUP BY activity\n",
    "ORDER BY ROUND(AVG(investment_rounds));"
   ]
  },
  {
   "cell_type": "markdown",
   "id": "98b76a4c",
   "metadata": {},
   "source": [
    "10. Проанализируйте, в каких странах находятся фонды, которые чаще всего инвестируют в стартапы. \n",
    "\n",
    "Для каждой страны посчитайте минимальное, максимальное и среднее число компаний, в которые инвестировали фонды этой страны, основанные с 2010 по 2012 год включительно. Исключите страны с фондами, у которых минимальное число компаний, получивших инвестиции, равно нулю. \n",
    "\n",
    "Выгрузите десять самых активных стран-инвесторов: отсортируйте таблицу по среднему количеству компаний от большего к меньшему. Затем добавьте сортировку по коду страны в лексикографическом порядке."
   ]
  },
  {
   "cell_type": "code",
   "execution_count": null,
   "id": "3078698d",
   "metadata": {},
   "outputs": [],
   "source": [
    "SELECT country_code,\n",
    "    MAX(invested_companies),\n",
    "    MIN(invested_companies),\n",
    "    AVG(invested_companies)\n",
    "FROM fund\n",
    "WHERE EXTRACT(YEAR FROM CAST(founded_at AS date)) BETWEEN 2010 AND 2012\n",
    "GROUP BY country_code\n",
    "HAVING MIN(invested_companies) > 0\n",
    "ORDER BY AVG(invested_companies) DESC,\n",
    "         country_code\n",
    "LIMIT 10;"
   ]
  },
  {
   "cell_type": "markdown",
   "id": "0f5702ad",
   "metadata": {},
   "source": [
    "11. Отобразите имя и фамилию всех сотрудников стартапов. Добавьте поле с названием учебного заведения, которое окончил сотрудник, если эта информация известна."
   ]
  },
  {
   "cell_type": "code",
   "execution_count": null,
   "id": "5a8772ce",
   "metadata": {},
   "outputs": [],
   "source": [
    "SELECT people.first_name,\n",
    "       people.last_name,\n",
    "       education.instituition\n",
    "FROM people\n",
    "LEFT JOIN education ON education.person_id=people.id;"
   ]
  },
  {
   "cell_type": "markdown",
   "id": "33a7ff6b",
   "metadata": {},
   "source": [
    "12. Для каждой компании найдите количество учебных заведений, которые окончили её сотрудники. Выведите название компании и число уникальных названий учебных заведений. Составьте топ-5 компаний по количеству университетов."
   ]
  },
  {
   "cell_type": "code",
   "execution_count": null,
   "id": "40f05398",
   "metadata": {},
   "outputs": [],
   "source": [
    "SELECT company.name,\n",
    "       COUNT(DISTINCT(instituition))\n",
    "FROM company\n",
    "LEFT JOIN people ON company.id=people.company_id\n",
    "LEFT JOIN education ON people.id=education.person_id\n",
    "GROUP BY company.id\n",
    "ORDER BY COUNT(DISTINCT(instituition)) DESC\n",
    "LIMIT 5;"
   ]
  },
  {
   "cell_type": "markdown",
   "id": "c6af4817",
   "metadata": {},
   "source": [
    "13. Составьте список с уникальными названиями закрытых компаний, для которых первый раунд финансирования оказался последним."
   ]
  },
  {
   "cell_type": "code",
   "execution_count": null,
   "id": "b05a9df5",
   "metadata": {},
   "outputs": [],
   "source": [
    "SELECT DISTINCT(company.name)\n",
    "FROM funding_round\n",
    "LEFT JOIN company ON company.id=funding_round.company_id\n",
    "WHERE is_first_round = 1 AND is_last_round = 1\n",
    "AND company.status LIKE '%closed%';"
   ]
  },
  {
   "cell_type": "markdown",
   "id": "cf9f2899",
   "metadata": {},
   "source": [
    "14. Составьте список уникальных номеров сотрудников, которые работают в компаниях, отобранных в предыдущем задании."
   ]
  },
  {
   "cell_type": "code",
   "execution_count": null,
   "id": "86c127a0",
   "metadata": {},
   "outputs": [],
   "source": [
    "SELECT DISTINCT(people.id)\n",
    "FROM people \n",
    "WHERE people.company_id IN\n",
    "(SELECT DISTINCT(company.id)\n",
    "FROM company\n",
    "JOIN funding_round ON company.id=funding_round.company_id\n",
    "WHERE is_first_round = 1 AND is_last_round = 1\n",
    "AND company.status LIKE '%closed%'\n",
    "GROUP BY company.id);"
   ]
  },
  {
   "cell_type": "markdown",
   "id": "b8a6ec4b",
   "metadata": {},
   "source": [
    "15. Составьте таблицу, куда войдут уникальные пары с номерами сотрудников из предыдущей задачи и учебным заведением, которое окончил сотрудник."
   ]
  },
  {
   "cell_type": "code",
   "execution_count": null,
   "id": "8a2bbcd5",
   "metadata": {},
   "outputs": [],
   "source": [
    "SELECT people.id,\n",
    "       education.instituition\n",
    "FROM people\n",
    "LEFT JOIN education ON education.person_id=people.id\n",
    "WHERE people.company_id IN(\n",
    "SELECT DISTINCT(company.id)\n",
    "FROM company\n",
    "JOIN funding_round ON company.id=funding_round.company_id\n",
    "WHERE is_first_round = 1 AND is_last_round = 1\n",
    "AND company.status LIKE '%closed%'\n",
    "GROUP BY company.id)\n",
    "GROUP BY people.id,\n",
    "          education.instituition\n",
    "HAVING instituition IS NOT NULL;"
   ]
  },
  {
   "cell_type": "markdown",
   "id": "a2e5dbda",
   "metadata": {},
   "source": [
    "16. Посчитайте количество учебных заведений для каждого сотрудника из предыдущего задания. При подсчёте учитывайте, что некоторые сотрудники могли окончить одно и то же заведение дважды."
   ]
  },
  {
   "cell_type": "code",
   "execution_count": null,
   "id": "dda06856",
   "metadata": {},
   "outputs": [],
   "source": [
    "SELECT people.id,\n",
    "       COUNT(education.instituition)\n",
    "FROM people\n",
    "LEFT JOIN education ON education.person_id=people.id\n",
    "WHERE people.company_id IN(\n",
    "SELECT DISTINCT(company.id)\n",
    "FROM company\n",
    "JOIN funding_round ON company.id=funding_round.company_id\n",
    "WHERE is_first_round = 1 AND is_last_round = 1\n",
    "AND company.status LIKE '%closed%'\n",
    "GROUP BY company.id)\n",
    "GROUP BY people.id\n",
    "HAVING COUNT(DISTINCT education.instituition) > 0;"
   ]
  },
  {
   "cell_type": "markdown",
   "id": "d8b90954",
   "metadata": {},
   "source": [
    "17. Дополните предыдущий запрос и выведите среднее число учебных заведений (всех, не только уникальных), которые окончили сотрудники разных компаний. Нужно вывести только одну запись, группировка здесь не понадобится."
   ]
  },
  {
   "cell_type": "code",
   "execution_count": null,
   "id": "3d19127f",
   "metadata": {},
   "outputs": [],
   "source": [
    "WITH \n",
    "cose AS \n",
    "(SELECT people.id,\n",
    "       COUNT(education.instituition)\n",
    "FROM people\n",
    "LEFT JOIN education ON education.person_id=people.id\n",
    "WHERE people.company_id IN(\n",
    "SELECT DISTINCT(company.id)\n",
    "FROM company\n",
    "JOIN funding_round ON company.id=funding_round.company_id\n",
    "WHERE is_first_round = 1 AND is_last_round = 1\n",
    "AND company.status LIKE '%closed%'\n",
    "GROUP BY company.id)\n",
    "GROUP BY people.id\n",
    "HAVING COUNT(DISTINCT education.instituition) > 0)\n",
    "SELECT AVG(COUNT)\n",
    "FROM cose;"
   ]
  },
  {
   "cell_type": "markdown",
   "id": "c0c9cbe1",
   "metadata": {},
   "source": [
    "18. Напишите похожий запрос: выведите среднее число учебных заведений (всех, не только уникальных), которые окончили сотрудники Facebook*.\n",
    "*(сервис, запрещённый на территории РФ)"
   ]
  },
  {
   "cell_type": "code",
   "execution_count": null,
   "id": "f79434e5",
   "metadata": {},
   "outputs": [],
   "source": [
    "WITH \n",
    "cose AS \n",
    "(SELECT people.id,\n",
    "       COUNT(education.instituition)\n",
    "FROM people\n",
    "LEFT JOIN education ON education.person_id=people.id\n",
    "WHERE people.company_id IN(\n",
    "SELECT DISTINCT(company.id)\n",
    "FROM company\n",
    "WHERE name = 'Facebook'\n",
    "GROUP BY company.id)\n",
    "GROUP BY people.id\n",
    "HAVING COUNT(DISTINCT education.instituition) > 0)\n",
    "SELECT AVG(COUNT)\n",
    "FROM cose\n",
    ";"
   ]
  },
  {
   "cell_type": "markdown",
   "id": "94d36c77",
   "metadata": {},
   "source": [
    "19. Составьте таблицу из полей:\n",
    "\n",
    "* name_of_fund — название фонда;\n",
    "* name_of_company — название компании;\n",
    "* amount — сумма инвестиций, которую привлекла компания в раунде.\n",
    "\n",
    "В таблицу войдут данные о компаниях, в истории которых было больше шести важных этапов, а раунды финансирования проходили с 2012 по 2013 год включительно."
   ]
  },
  {
   "cell_type": "code",
   "execution_count": null,
   "id": "0b75c721",
   "metadata": {},
   "outputs": [],
   "source": [
    "SELECT fund.name AS name_of_fund,\n",
    "       company.name AS name_of_company,\n",
    "       fund_round.raised_amount AS amount\n",
    "FROM investment\n",
    "LEFT JOIN company ON company.id=investment.company_id\n",
    "LEFT JOIN fund ON fund.id=investment.fund_id\n",
    "JOIN\n",
    "(SELECT *\n",
    "FROM funding_round\n",
    "WHERE EXTRACT(YEAR FROM CAST(funded_at AS date)) BETWEEN 2012 AND 2013)\n",
    "AS fund_round ON fund_round.id=investment.funding_round_id\n",
    "WHERE company.milestones > 6;"
   ]
  },
  {
   "cell_type": "markdown",
   "id": "4d739c4e",
   "metadata": {},
   "source": [
    "20. Выгрузите таблицу, в которой будут такие поля:\n",
    "\n",
    "* название компании-покупателя;\n",
    "* сумма сделки;\n",
    "* название компании, которую купили;\n",
    "* сумма инвестиций, вложенных в купленную компанию;\n",
    "* доля, которая отображает, во сколько раз сумма покупки превысила сумму вложенных в компанию инвестиций, округлённая до ближайшего целого числа.\n",
    "\n",
    "Не учитывайте те сделки, в которых сумма покупки равна нулю. Если сумма инвестиций в компанию равна нулю, исключите такую компанию из таблицы. \n",
    "\n",
    "Отсортируйте таблицу по сумме сделки от большей к меньшей, а затем по названию купленной компании в лексикографическом порядке. Ограничьте таблицу первыми десятью записями."
   ]
  },
  {
   "cell_type": "code",
   "execution_count": null,
   "id": "ecce9e68",
   "metadata": {},
   "outputs": [],
   "source": [
    "WITH\n",
    "acquiring AS\n",
    "(SELECT company.name AS buyer,\n",
    "        acquisition.price_amount AS price,\n",
    "        acquisition.id AS key\n",
    "FROM acquisition\n",
    "LEFT JOIN company ON acquisition.acquiring_company_id=company.id\n",
    "WHERE acquisition.price_amount > 0),\n",
    "acquired AS\n",
    "(SELECT company.name AS acquisition,\n",
    "        company.funding_total AS investment,\n",
    "        acquisition.id AS key\n",
    "FROM acquisition\n",
    "LEFT JOIN company ON acquisition.acquired_company_id = company.id\n",
    "WHERE company.funding_total > 0)\n",
    "SELECT acquiring.buyer,\n",
    "       acquiring.price,\n",
    "       acquired.acquisition,\n",
    "       acquired.investment,\n",
    "       ROUND(price/investment) AS uplift\n",
    "FROM acquiring\n",
    "JOIN acquired ON acquiring.key=acquired.key\n",
    "ORDER BY price DESC,\n",
    "        acquisition\n",
    "LIMIT 10;"
   ]
  },
  {
   "cell_type": "markdown",
   "id": "eda1020f",
   "metadata": {},
   "source": [
    "21. Выгрузите таблицу, в которую войдут названия компаний из категории social, получившие финансирование с 2010 по 2013 год включительно. Проверьте, что сумма инвестиций не равна нулю. Выведите также номер месяца, в котором проходил раунд финансирования."
   ]
  },
  {
   "cell_type": "code",
   "execution_count": null,
   "id": "9848eed6",
   "metadata": {},
   "outputs": [],
   "source": [
    "SELECT company.name,\n",
    "       EXTRACT(MONTH FROM CAST(funding_round.funded_at AS date))   \n",
    "FROM company\n",
    "JOIN funding_round ON company.id=funding_round.company_id\n",
    "WHERE category_code = 'social'\n",
    "AND EXTRACT(YEAR FROM CAST(funding_round.funded_at AS date)) BETWEEN 2010 AND 2013\n",
    "AND raised_amount > 0;"
   ]
  },
  {
   "cell_type": "markdown",
   "id": "fd350cdf",
   "metadata": {},
   "source": [
    "22. Отберите данные по месяцам с 2010 по 2013 год, когда проходили инвестиционные раунды. Сгруппируйте данные по номеру месяца и получите таблицу, в которой будут поля:\n",
    "\n",
    "* номер месяца, в котором проходили раунды;\n",
    "* количество уникальных названий фондов из США, которые инвестировали в этом месяце;\n",
    "* количество компаний, купленных за этот месяц;\n",
    "* общая сумма сделок по покупкам в этом месяце."
   ]
  },
  {
   "cell_type": "code",
   "execution_count": null,
   "id": "4490661d",
   "metadata": {},
   "outputs": [],
   "source": [
    "WITH\n",
    "fundd AS \n",
    "(SELECT EXTRACT(MONTH FROM CAST(funding_round.funded_at AS date)) AS funding_month,\n",
    "       COUNT(DISTINCT fund.id) AS unic_name\n",
    "FROM fund\n",
    "LEFT JOIN investment ON fund.id=investment.fund_id\n",
    "LEFT JOIN funding_round ON investment.funding_round_id= funding_round.id\n",
    "WHERE fund.country_code = 'USA'\n",
    "AND EXTRACT(YEAR FROM CAST(funding_round.funded_at AS date)) BETWEEN 2010 AND 2013\n",
    "GROUP BY funding_month),\n",
    "acquisitions AS\n",
    "(SELECT EXTRACT(MONTH FROM CAST(acquired_at AS date)) AS funding_month,\n",
    "        COUNT(acquired_company_id) AS count_comp,\n",
    "        SUM(price_amount) AS sum_sdel\n",
    "FROM acquisition\n",
    "WHERE EXTRACT(YEAR FROM CAST(acquired_at AS date)) BETWEEN 2010 AND 2013\n",
    "GROUP BY funding_month)\n",
    "SELECT fundd.funding_month, fundd.unic_name, acquisitions.count_comp, acquisitions.sum_sdel\n",
    "FROM fundd\n",
    "LEFT JOIN acquisitions ON fundd.funding_month=acquisitions.funding_month;"
   ]
  },
  {
   "cell_type": "markdown",
   "id": "a7f2255c",
   "metadata": {},
   "source": [
    "23. Составьте сводную таблицу и выведите среднюю сумму инвестиций для стран, в которых есть стартапы, зарегистрированные в 2011, 2012 и 2013 годах. Данные за каждый год должны быть в отдельном поле. Отсортируйте таблицу по среднему значению инвестиций за 2011 год от большего к меньшему."
   ]
  },
  {
   "cell_type": "code",
   "execution_count": null,
   "id": "a5865e83",
   "metadata": {},
   "outputs": [],
   "source": [
    "WITH\n",
    "y2011 AS \n",
    "(SELECT country_code AS country,\n",
    "        AVG(funding_total) AS avg2011\n",
    "FROM company\n",
    "WHERE EXTRACT(YEAR FROM CAST(founded_at AS date)) = 2011\n",
    "GROUP BY country_code),\n",
    "y2012 AS \n",
    "(SELECT country_code AS country, \n",
    "        AVG(funding_total) AS avg2012\n",
    "FROM company\n",
    "WHERE EXTRACT(YEAR FROM CAST(founded_at AS date)) = 2012\n",
    "GROUP BY country_code),\n",
    "y2013 AS (SELECT country_code AS country, \n",
    "          AVG(funding_total) AS avg2013\n",
    "FROM company\n",
    "WHERE EXTRACT(YEAR FROM CAST(founded_at AS date)) = 2013\n",
    "GROUP BY country_code)\n",
    "\n",
    "SELECT y2011.country, \n",
    "       y2011.avg2011, \n",
    "       y2012.avg2012, \n",
    "       y2013.avg2013\n",
    "FROM y2011\n",
    "INNER JOIN y2012 ON y2011.country = y2012.country\n",
    "INNER JOIN y2013 ON y2011.country = y2013.country\n",
    "ORDER BY y2011.avg2011 DESC;"
   ]
  }
 ],
 "metadata": {
  "kernelspec": {
   "display_name": "Python 3 (ipykernel)",
   "language": "python",
   "name": "python3"
  },
  "language_info": {
   "codemirror_mode": {
    "name": "ipython",
    "version": 3
   },
   "file_extension": ".py",
   "mimetype": "text/x-python",
   "name": "python",
   "nbconvert_exporter": "python",
   "pygments_lexer": "ipython3",
   "version": "3.11.3"
  },
  "toc": {
   "base_numbering": 1,
   "nav_menu": {},
   "number_sections": true,
   "sideBar": true,
   "skip_h1_title": true,
   "title_cell": "Table of Contents",
   "title_sidebar": "Contents",
   "toc_cell": true,
   "toc_position": {},
   "toc_section_display": true,
   "toc_window_display": false
  }
 },
 "nbformat": 4,
 "nbformat_minor": 5
}
