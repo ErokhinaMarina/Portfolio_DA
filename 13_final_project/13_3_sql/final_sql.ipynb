{
 "cells": [
  {
   "cell_type": "markdown",
   "metadata": {},
   "source": [
    "# Анализ данных SQL по купленному сервису для чтения книг по подписке"
   ]
  },
  {
   "cell_type": "markdown",
   "metadata": {
    "toc": true
   },
   "source": [
    "<h1>Содержание<span class=\"tocSkip\"></span></h1>\n",
    "<div class=\"toc\"><ul class=\"toc-item\"><li><span><a href=\"#Описание-данных\" data-toc-modified-id=\"Описание-данных-1\"><span class=\"toc-item-num\">1&nbsp;&nbsp;</span>Описание данных</a></span></li><li><span><a href=\"#Исследование-таблиц\" data-toc-modified-id=\"Исследование-таблиц-2\"><span class=\"toc-item-num\">2&nbsp;&nbsp;</span>Исследование таблиц</a></span></li><li><span><a href=\"#Анализ-данных\" data-toc-modified-id=\"Анализ-данных-3\"><span class=\"toc-item-num\">3&nbsp;&nbsp;</span>Анализ данных</a></span><ul class=\"toc-item\"><li><span><a href=\"#Посчитаем,-сколько-книг-вышло-после-1-января-2000-года\" data-toc-modified-id=\"Посчитаем,-сколько-книг-вышло-после-1-января-2000-года-3.1\"><span class=\"toc-item-num\">3.1&nbsp;&nbsp;</span>Посчитаем, сколько книг вышло после 1 января 2000 года</a></span></li><li><span><a href=\"#Для-каждой-книги-посчитаем-количество-обзоров-и-среднюю-оценку\" data-toc-modified-id=\"Для-каждой-книги-посчитаем-количество-обзоров-и-среднюю-оценку-3.2\"><span class=\"toc-item-num\">3.2&nbsp;&nbsp;</span>Для каждой книги посчитаем количество обзоров и среднюю оценку</a></span></li><li><span><a href=\"#Определим-издательство,-которое-выпустило-наибольшее-число-книг-толще-50-страниц-—-так-вы-исключите-из-анализа-брошюры\" data-toc-modified-id=\"Определим-издательство,-которое-выпустило-наибольшее-число-книг-толще-50-страниц-—-так-вы-исключите-из-анализа-брошюры-3.3\"><span class=\"toc-item-num\">3.3&nbsp;&nbsp;</span>Определим издательство, которое выпустило наибольшее число книг толще 50 страниц — так вы исключите из анализа брошюры</a></span></li><li><span><a href=\"#Определим-автора-с-самой-высокой-средней-оценкой-книг-—-учитывайте-только-книги-с-50-и-более-оценками\" data-toc-modified-id=\"Определим-автора-с-самой-высокой-средней-оценкой-книг-—-учитывайте-только-книги-с-50-и-более-оценками-3.4\"><span class=\"toc-item-num\">3.4&nbsp;&nbsp;</span>Определим автора с самой высокой средней оценкой книг — учитывайте только книги с 50 и более оценками</a></span></li><li><span><a href=\"#Посчитаем-среднее-количество-обзоров-от-пользователей,-которые-поставили-больше-48-оценок.\" data-toc-modified-id=\"Посчитаем-среднее-количество-обзоров-от-пользователей,-которые-поставили-больше-48-оценок.-3.5\"><span class=\"toc-item-num\">3.5&nbsp;&nbsp;</span>Посчитаем среднее количество обзоров от пользователей, которые поставили больше 48 оценок.</a></span></li></ul></li><li><span><a href=\"#Выводы\" data-toc-modified-id=\"Выводы-4\"><span class=\"toc-item-num\">4&nbsp;&nbsp;</span>Выводы</a></span></li></ul></div>"
   ]
  },
  {
   "cell_type": "markdown",
   "metadata": {},
   "source": [
    "## Описание данных "
   ]
  },
  {
   "cell_type": "markdown",
   "metadata": {},
   "source": [
    "**Цели исследования**\n",
    "\n",
    "Проанализировать данные купленного сервиса для чтения книг по подписке для помощи в формировании ценностного предложения нового продукта.\n",
    "\n",
    "**Задачи** \n",
    "\n",
    "1. Подготовить анализ:\n",
    "\n",
    "* ĸоличества ĸниг,\n",
    "\n",
    "* обзоров, \n",
    "\n",
    "* рейтингов \n",
    "\n",
    "2. Сформулировать выводы"
   ]
  },
  {
   "cell_type": "markdown",
   "metadata": {},
   "source": [
    "**Описание проекта**\n",
    "Задача  — проанализировать базу данных.\n",
    "В ней — информация о книгах, издательствах, авторах, а также пользовательские обзоры книг. Эти данные помогут сформулировать ценностное предложение для нового продукта."
   ]
  },
  {
   "cell_type": "markdown",
   "metadata": {},
   "source": [
    "**Задания**\n",
    "\n",
    "* Посчитайте, сколько книг вышло после 1 января 2000 года;\n",
    "\n",
    "* Для каждой книги посчитайте количество обзоров и среднюю оценку;\n",
    "\n",
    "* Определите издательство, которое выпустило наибольшее число книг толще 50 страниц — так вы исключите из анализа брошюры;\n",
    "\n",
    "* Определите автора с самой высокой средней оценкой книг — учитывайте только книги с 50 и более оценками;\n",
    "\n",
    "* Посчитайте среднее количество обзоров от пользователей, которые поставили больше 48 оценок."
   ]
  },
  {
   "cell_type": "markdown",
   "metadata": {},
   "source": [
    "**Ход работы** \n",
    "\n",
    "* Опишите цели исследования;\n",
    "\n",
    "* Исследуйте таблицы — выведите первые строки;\n",
    "\n",
    "* Сделайте по одному SQL-запросу для решения каждого задания;\n",
    "\n",
    "* Выведите результат каждого запроса в тетрадке;\n",
    "\n",
    "* Опишите выводы по каждой из решённых задач."
   ]
  },
  {
   "cell_type": "markdown",
   "metadata": {},
   "source": [
    "## Исследование таблиц"
   ]
  },
  {
   "cell_type": "code",
   "execution_count": 1,
   "metadata": {
    "scrolled": true
   },
   "outputs": [
    {
     "data": {
      "text/html": [
       "<div>\n",
       "<style scoped>\n",
       "    .dataframe tbody tr th:only-of-type {\n",
       "        vertical-align: middle;\n",
       "    }\n",
       "\n",
       "    .dataframe tbody tr th {\n",
       "        vertical-align: top;\n",
       "    }\n",
       "\n",
       "    .dataframe thead th {\n",
       "        text-align: right;\n",
       "    }\n",
       "</style>\n",
       "<table border=\"1\" class=\"dataframe\">\n",
       "  <thead>\n",
       "    <tr style=\"text-align: right;\">\n",
       "      <th></th>\n",
       "      <th>book_id</th>\n",
       "      <th>author_id</th>\n",
       "      <th>title</th>\n",
       "      <th>num_pages</th>\n",
       "      <th>publication_date</th>\n",
       "      <th>publisher_id</th>\n",
       "    </tr>\n",
       "  </thead>\n",
       "  <tbody>\n",
       "    <tr>\n",
       "      <th>0</th>\n",
       "      <td>1</td>\n",
       "      <td>546</td>\n",
       "      <td>'Salem's Lot</td>\n",
       "      <td>594</td>\n",
       "      <td>2005-11-01</td>\n",
       "      <td>93</td>\n",
       "    </tr>\n",
       "    <tr>\n",
       "      <th>1</th>\n",
       "      <td>2</td>\n",
       "      <td>465</td>\n",
       "      <td>1 000 Places to See Before You Die</td>\n",
       "      <td>992</td>\n",
       "      <td>2003-05-22</td>\n",
       "      <td>336</td>\n",
       "    </tr>\n",
       "    <tr>\n",
       "      <th>2</th>\n",
       "      <td>3</td>\n",
       "      <td>407</td>\n",
       "      <td>13 Little Blue Envelopes (Little Blue Envelope...</td>\n",
       "      <td>322</td>\n",
       "      <td>2010-12-21</td>\n",
       "      <td>135</td>\n",
       "    </tr>\n",
       "    <tr>\n",
       "      <th>3</th>\n",
       "      <td>4</td>\n",
       "      <td>82</td>\n",
       "      <td>1491: New Revelations of the Americas Before C...</td>\n",
       "      <td>541</td>\n",
       "      <td>2006-10-10</td>\n",
       "      <td>309</td>\n",
       "    </tr>\n",
       "    <tr>\n",
       "      <th>4</th>\n",
       "      <td>5</td>\n",
       "      <td>125</td>\n",
       "      <td>1776</td>\n",
       "      <td>386</td>\n",
       "      <td>2006-07-04</td>\n",
       "      <td>268</td>\n",
       "    </tr>\n",
       "  </tbody>\n",
       "</table>\n",
       "</div>"
      ],
      "text/plain": [
       "   book_id  author_id                                              title  \\\n",
       "0        1        546                                       'Salem's Lot   \n",
       "1        2        465                 1 000 Places to See Before You Die   \n",
       "2        3        407  13 Little Blue Envelopes (Little Blue Envelope...   \n",
       "3        4         82  1491: New Revelations of the Americas Before C...   \n",
       "4        5        125                                               1776   \n",
       "\n",
       "   num_pages publication_date  publisher_id  \n",
       "0        594       2005-11-01            93  \n",
       "1        992       2003-05-22           336  \n",
       "2        322       2010-12-21           135  \n",
       "3        541       2006-10-10           309  \n",
       "4        386       2006-07-04           268  "
      ]
     },
     "execution_count": 1,
     "metadata": {},
     "output_type": "execute_result"
    }
   ],
   "source": [
    "# импортируем библиотеки\n",
    "import pandas as pd\n",
    "from sqlalchemy import text, create_engine\n",
    "# устанавливаем параметры\n",
    "db_config = {'user': 'praktikum_student', # имя пользователя\n",
    "    'pwd': 'Sdf4$2;d-d30pp', # пароль\n",
    "    'host': 'rc1b-wcoijxj3yxfsf3fs.mdb.yandexcloud.net',\n",
    "    'port': 6432, # порт подключения\n",
    "    'db': 'data-analyst-final-project-db'} # название базы данных\n",
    "connection_string = 'postgresql://{user}:{pwd}@{host}:{port}/{db}'.format(**db_config)\n",
    "# сохраняем коннектор\n",
    "engine = create_engine(connection_string, connect_args={'sslmode':'require'})\n",
    "# чтобы выполнить SQL-запрос, используем Pandas\n",
    "query = '''SELECT * FROM books LIMIT 5'''\n",
    "# открываем соединение, получаем данные\n",
    "with engine.connect() as con:\n",
    "    df = pd.io.sql.read_sql(sql=text(query), con = con)\n",
    "# выведем данные    \n",
    "df"
   ]
  },
  {
   "cell_type": "markdown",
   "metadata": {},
   "source": [
    "Прочитаем данные и выведем на экран первые 5 строчек датафрейма books."
   ]
  },
  {
   "cell_type": "code",
   "execution_count": 2,
   "metadata": {},
   "outputs": [
    {
     "data": {
      "text/html": [
       "<div>\n",
       "<style scoped>\n",
       "    .dataframe tbody tr th:only-of-type {\n",
       "        vertical-align: middle;\n",
       "    }\n",
       "\n",
       "    .dataframe tbody tr th {\n",
       "        vertical-align: top;\n",
       "    }\n",
       "\n",
       "    .dataframe thead th {\n",
       "        text-align: right;\n",
       "    }\n",
       "</style>\n",
       "<table border=\"1\" class=\"dataframe\">\n",
       "  <thead>\n",
       "    <tr style=\"text-align: right;\">\n",
       "      <th></th>\n",
       "      <th>book_id</th>\n",
       "      <th>author_id</th>\n",
       "      <th>title</th>\n",
       "      <th>num_pages</th>\n",
       "      <th>publication_date</th>\n",
       "      <th>publisher_id</th>\n",
       "    </tr>\n",
       "  </thead>\n",
       "  <tbody>\n",
       "    <tr>\n",
       "      <th>0</th>\n",
       "      <td>1</td>\n",
       "      <td>546</td>\n",
       "      <td>'Salem's Lot</td>\n",
       "      <td>594</td>\n",
       "      <td>2005-11-01</td>\n",
       "      <td>93</td>\n",
       "    </tr>\n",
       "    <tr>\n",
       "      <th>1</th>\n",
       "      <td>2</td>\n",
       "      <td>465</td>\n",
       "      <td>1 000 Places to See Before You Die</td>\n",
       "      <td>992</td>\n",
       "      <td>2003-05-22</td>\n",
       "      <td>336</td>\n",
       "    </tr>\n",
       "    <tr>\n",
       "      <th>2</th>\n",
       "      <td>3</td>\n",
       "      <td>407</td>\n",
       "      <td>13 Little Blue Envelopes (Little Blue Envelope...</td>\n",
       "      <td>322</td>\n",
       "      <td>2010-12-21</td>\n",
       "      <td>135</td>\n",
       "    </tr>\n",
       "    <tr>\n",
       "      <th>3</th>\n",
       "      <td>4</td>\n",
       "      <td>82</td>\n",
       "      <td>1491: New Revelations of the Americas Before C...</td>\n",
       "      <td>541</td>\n",
       "      <td>2006-10-10</td>\n",
       "      <td>309</td>\n",
       "    </tr>\n",
       "    <tr>\n",
       "      <th>4</th>\n",
       "      <td>5</td>\n",
       "      <td>125</td>\n",
       "      <td>1776</td>\n",
       "      <td>386</td>\n",
       "      <td>2006-07-04</td>\n",
       "      <td>268</td>\n",
       "    </tr>\n",
       "  </tbody>\n",
       "</table>\n",
       "</div>"
      ],
      "text/plain": [
       "   book_id  author_id                                              title  \\\n",
       "0        1        546                                       'Salem's Lot   \n",
       "1        2        465                 1 000 Places to See Before You Die   \n",
       "2        3        407  13 Little Blue Envelopes (Little Blue Envelope...   \n",
       "3        4         82  1491: New Revelations of the Americas Before C...   \n",
       "4        5        125                                               1776   \n",
       "\n",
       "   num_pages publication_date  publisher_id  \n",
       "0        594       2005-11-01            93  \n",
       "1        992       2003-05-22           336  \n",
       "2        322       2010-12-21           135  \n",
       "3        541       2006-10-10           309  \n",
       "4        386       2006-07-04           268  "
      ]
     },
     "execution_count": 2,
     "metadata": {},
     "output_type": "execute_result"
    }
   ],
   "source": [
    "query = '''\n",
    "            SELECT * \n",
    "            FROM books\n",
    "        '''\n",
    "books = pd.io.sql.read_sql(query, con = engine)\n",
    "books.head()"
   ]
  },
  {
   "cell_type": "markdown",
   "metadata": {},
   "source": [
    "Посмотрим общие данные, выведя основную информацию о датафрейме с помощью метода info()."
   ]
  },
  {
   "cell_type": "code",
   "execution_count": 3,
   "metadata": {},
   "outputs": [
    {
     "name": "stdout",
     "output_type": "stream",
     "text": [
      "<class 'pandas.core.frame.DataFrame'>\n",
      "RangeIndex: 1000 entries, 0 to 999\n",
      "Data columns (total 6 columns):\n",
      " #   Column            Non-Null Count  Dtype \n",
      "---  ------            --------------  ----- \n",
      " 0   book_id           1000 non-null   int64 \n",
      " 1   author_id         1000 non-null   int64 \n",
      " 2   title             1000 non-null   object\n",
      " 3   num_pages         1000 non-null   int64 \n",
      " 4   publication_date  1000 non-null   object\n",
      " 5   publisher_id      1000 non-null   int64 \n",
      "dtypes: int64(4), object(2)\n",
      "memory usage: 47.0+ KB\n"
     ]
    }
   ],
   "source": [
    "books.info()"
   ]
  },
  {
   "cell_type": "markdown",
   "metadata": {},
   "source": [
    "Датафрейм books содержит 1000 строки и 6 столбца."
   ]
  },
  {
   "cell_type": "markdown",
   "metadata": {},
   "source": [
    "Прочитаем данные и выведем на экран первые 5 строчек датафрейма authors."
   ]
  },
  {
   "cell_type": "code",
   "execution_count": 4,
   "metadata": {},
   "outputs": [
    {
     "data": {
      "text/html": [
       "<div>\n",
       "<style scoped>\n",
       "    .dataframe tbody tr th:only-of-type {\n",
       "        vertical-align: middle;\n",
       "    }\n",
       "\n",
       "    .dataframe tbody tr th {\n",
       "        vertical-align: top;\n",
       "    }\n",
       "\n",
       "    .dataframe thead th {\n",
       "        text-align: right;\n",
       "    }\n",
       "</style>\n",
       "<table border=\"1\" class=\"dataframe\">\n",
       "  <thead>\n",
       "    <tr style=\"text-align: right;\">\n",
       "      <th></th>\n",
       "      <th>author_id</th>\n",
       "      <th>author</th>\n",
       "    </tr>\n",
       "  </thead>\n",
       "  <tbody>\n",
       "    <tr>\n",
       "      <th>0</th>\n",
       "      <td>1</td>\n",
       "      <td>A.S. Byatt</td>\n",
       "    </tr>\n",
       "    <tr>\n",
       "      <th>1</th>\n",
       "      <td>2</td>\n",
       "      <td>Aesop/Laura Harris/Laura Gibbs</td>\n",
       "    </tr>\n",
       "    <tr>\n",
       "      <th>2</th>\n",
       "      <td>3</td>\n",
       "      <td>Agatha Christie</td>\n",
       "    </tr>\n",
       "    <tr>\n",
       "      <th>3</th>\n",
       "      <td>4</td>\n",
       "      <td>Alan Brennert</td>\n",
       "    </tr>\n",
       "    <tr>\n",
       "      <th>4</th>\n",
       "      <td>5</td>\n",
       "      <td>Alan Moore/David   Lloyd</td>\n",
       "    </tr>\n",
       "  </tbody>\n",
       "</table>\n",
       "</div>"
      ],
      "text/plain": [
       "   author_id                          author\n",
       "0          1                      A.S. Byatt\n",
       "1          2  Aesop/Laura Harris/Laura Gibbs\n",
       "2          3                 Agatha Christie\n",
       "3          4                   Alan Brennert\n",
       "4          5        Alan Moore/David   Lloyd"
      ]
     },
     "execution_count": 4,
     "metadata": {},
     "output_type": "execute_result"
    }
   ],
   "source": [
    "query = '''\n",
    "            SELECT * \n",
    "            FROM authors\n",
    "        '''\n",
    "authors = pd.io.sql.read_sql(query, con = engine)\n",
    "authors.head()"
   ]
  },
  {
   "cell_type": "markdown",
   "metadata": {},
   "source": [
    "Посмотрим общие данные, выведя основную информацию о датафрейме с помощью метода info()."
   ]
  },
  {
   "cell_type": "code",
   "execution_count": 5,
   "metadata": {},
   "outputs": [
    {
     "name": "stdout",
     "output_type": "stream",
     "text": [
      "<class 'pandas.core.frame.DataFrame'>\n",
      "RangeIndex: 636 entries, 0 to 635\n",
      "Data columns (total 2 columns):\n",
      " #   Column     Non-Null Count  Dtype \n",
      "---  ------     --------------  ----- \n",
      " 0   author_id  636 non-null    int64 \n",
      " 1   author     636 non-null    object\n",
      "dtypes: int64(1), object(1)\n",
      "memory usage: 10.1+ KB\n"
     ]
    }
   ],
   "source": [
    "authors.info()"
   ]
  },
  {
   "cell_type": "markdown",
   "metadata": {},
   "source": [
    "Датафрейм authors содержит 636 строки и 2 столбца."
   ]
  },
  {
   "cell_type": "markdown",
   "metadata": {},
   "source": [
    "Прочитаем данные и выведем на экран первые 5 строчек датафрейма publishers."
   ]
  },
  {
   "cell_type": "code",
   "execution_count": 6,
   "metadata": {},
   "outputs": [
    {
     "data": {
      "text/html": [
       "<div>\n",
       "<style scoped>\n",
       "    .dataframe tbody tr th:only-of-type {\n",
       "        vertical-align: middle;\n",
       "    }\n",
       "\n",
       "    .dataframe tbody tr th {\n",
       "        vertical-align: top;\n",
       "    }\n",
       "\n",
       "    .dataframe thead th {\n",
       "        text-align: right;\n",
       "    }\n",
       "</style>\n",
       "<table border=\"1\" class=\"dataframe\">\n",
       "  <thead>\n",
       "    <tr style=\"text-align: right;\">\n",
       "      <th></th>\n",
       "      <th>publisher_id</th>\n",
       "      <th>publisher</th>\n",
       "    </tr>\n",
       "  </thead>\n",
       "  <tbody>\n",
       "    <tr>\n",
       "      <th>0</th>\n",
       "      <td>1</td>\n",
       "      <td>Ace</td>\n",
       "    </tr>\n",
       "    <tr>\n",
       "      <th>1</th>\n",
       "      <td>2</td>\n",
       "      <td>Ace Book</td>\n",
       "    </tr>\n",
       "    <tr>\n",
       "      <th>2</th>\n",
       "      <td>3</td>\n",
       "      <td>Ace Books</td>\n",
       "    </tr>\n",
       "    <tr>\n",
       "      <th>3</th>\n",
       "      <td>4</td>\n",
       "      <td>Ace Hardcover</td>\n",
       "    </tr>\n",
       "    <tr>\n",
       "      <th>4</th>\n",
       "      <td>5</td>\n",
       "      <td>Addison Wesley Publishing Company</td>\n",
       "    </tr>\n",
       "  </tbody>\n",
       "</table>\n",
       "</div>"
      ],
      "text/plain": [
       "   publisher_id                          publisher\n",
       "0             1                                Ace\n",
       "1             2                           Ace Book\n",
       "2             3                          Ace Books\n",
       "3             4                      Ace Hardcover\n",
       "4             5  Addison Wesley Publishing Company"
      ]
     },
     "execution_count": 6,
     "metadata": {},
     "output_type": "execute_result"
    }
   ],
   "source": [
    "query = '''\n",
    "            SELECT * \n",
    "            FROM publishers\n",
    "        '''\n",
    "publishers = pd.io.sql.read_sql(query, con = engine)\n",
    "publishers.head()"
   ]
  },
  {
   "cell_type": "markdown",
   "metadata": {},
   "source": [
    "Посмотрим общие данные, выведя основную информацию о датафрейме с помощью метода info()."
   ]
  },
  {
   "cell_type": "code",
   "execution_count": 7,
   "metadata": {},
   "outputs": [
    {
     "name": "stdout",
     "output_type": "stream",
     "text": [
      "<class 'pandas.core.frame.DataFrame'>\n",
      "RangeIndex: 340 entries, 0 to 339\n",
      "Data columns (total 2 columns):\n",
      " #   Column        Non-Null Count  Dtype \n",
      "---  ------        --------------  ----- \n",
      " 0   publisher_id  340 non-null    int64 \n",
      " 1   publisher     340 non-null    object\n",
      "dtypes: int64(1), object(1)\n",
      "memory usage: 5.4+ KB\n"
     ]
    }
   ],
   "source": [
    "publishers.info()"
   ]
  },
  {
   "cell_type": "markdown",
   "metadata": {},
   "source": [
    "Датафрейм publisher содержит 340 строки и 2 столбца."
   ]
  },
  {
   "cell_type": "markdown",
   "metadata": {},
   "source": [
    "Прочитаем данные и выведем на экран первые 5 строчек датафрейма ratings."
   ]
  },
  {
   "cell_type": "code",
   "execution_count": 8,
   "metadata": {},
   "outputs": [
    {
     "data": {
      "text/html": [
       "<div>\n",
       "<style scoped>\n",
       "    .dataframe tbody tr th:only-of-type {\n",
       "        vertical-align: middle;\n",
       "    }\n",
       "\n",
       "    .dataframe tbody tr th {\n",
       "        vertical-align: top;\n",
       "    }\n",
       "\n",
       "    .dataframe thead th {\n",
       "        text-align: right;\n",
       "    }\n",
       "</style>\n",
       "<table border=\"1\" class=\"dataframe\">\n",
       "  <thead>\n",
       "    <tr style=\"text-align: right;\">\n",
       "      <th></th>\n",
       "      <th>rating_id</th>\n",
       "      <th>book_id</th>\n",
       "      <th>username</th>\n",
       "      <th>rating</th>\n",
       "    </tr>\n",
       "  </thead>\n",
       "  <tbody>\n",
       "    <tr>\n",
       "      <th>0</th>\n",
       "      <td>1</td>\n",
       "      <td>1</td>\n",
       "      <td>ryanfranco</td>\n",
       "      <td>4</td>\n",
       "    </tr>\n",
       "    <tr>\n",
       "      <th>1</th>\n",
       "      <td>2</td>\n",
       "      <td>1</td>\n",
       "      <td>grantpatricia</td>\n",
       "      <td>2</td>\n",
       "    </tr>\n",
       "    <tr>\n",
       "      <th>2</th>\n",
       "      <td>3</td>\n",
       "      <td>1</td>\n",
       "      <td>brandtandrea</td>\n",
       "      <td>5</td>\n",
       "    </tr>\n",
       "    <tr>\n",
       "      <th>3</th>\n",
       "      <td>4</td>\n",
       "      <td>2</td>\n",
       "      <td>lorichen</td>\n",
       "      <td>3</td>\n",
       "    </tr>\n",
       "    <tr>\n",
       "      <th>4</th>\n",
       "      <td>5</td>\n",
       "      <td>2</td>\n",
       "      <td>mariokeller</td>\n",
       "      <td>2</td>\n",
       "    </tr>\n",
       "  </tbody>\n",
       "</table>\n",
       "</div>"
      ],
      "text/plain": [
       "   rating_id  book_id       username  rating\n",
       "0          1        1     ryanfranco       4\n",
       "1          2        1  grantpatricia       2\n",
       "2          3        1   brandtandrea       5\n",
       "3          4        2       lorichen       3\n",
       "4          5        2    mariokeller       2"
      ]
     },
     "execution_count": 8,
     "metadata": {},
     "output_type": "execute_result"
    }
   ],
   "source": [
    "query = '''\n",
    "            SELECT * \n",
    "            FROM ratings\n",
    "        '''\n",
    "ratings = pd.io.sql.read_sql(query, con = engine)\n",
    "ratings.head()"
   ]
  },
  {
   "cell_type": "markdown",
   "metadata": {},
   "source": [
    "Посмотрим общие данные, выведя основную информацию о датафрейме с помощью метода info()."
   ]
  },
  {
   "cell_type": "code",
   "execution_count": 9,
   "metadata": {},
   "outputs": [
    {
     "name": "stdout",
     "output_type": "stream",
     "text": [
      "<class 'pandas.core.frame.DataFrame'>\n",
      "RangeIndex: 6456 entries, 0 to 6455\n",
      "Data columns (total 4 columns):\n",
      " #   Column     Non-Null Count  Dtype \n",
      "---  ------     --------------  ----- \n",
      " 0   rating_id  6456 non-null   int64 \n",
      " 1   book_id    6456 non-null   int64 \n",
      " 2   username   6456 non-null   object\n",
      " 3   rating     6456 non-null   int64 \n",
      "dtypes: int64(3), object(1)\n",
      "memory usage: 201.9+ KB\n"
     ]
    }
   ],
   "source": [
    "ratings.info()"
   ]
  },
  {
   "cell_type": "markdown",
   "metadata": {},
   "source": [
    "Датафрейм ratings содержит 6456 строки и 4 столбца."
   ]
  },
  {
   "cell_type": "markdown",
   "metadata": {},
   "source": [
    "Прочитаем данные и выведем на экран первые 5 строчек датафрейма reviews."
   ]
  },
  {
   "cell_type": "code",
   "execution_count": 10,
   "metadata": {},
   "outputs": [
    {
     "data": {
      "text/html": [
       "<div>\n",
       "<style scoped>\n",
       "    .dataframe tbody tr th:only-of-type {\n",
       "        vertical-align: middle;\n",
       "    }\n",
       "\n",
       "    .dataframe tbody tr th {\n",
       "        vertical-align: top;\n",
       "    }\n",
       "\n",
       "    .dataframe thead th {\n",
       "        text-align: right;\n",
       "    }\n",
       "</style>\n",
       "<table border=\"1\" class=\"dataframe\">\n",
       "  <thead>\n",
       "    <tr style=\"text-align: right;\">\n",
       "      <th></th>\n",
       "      <th>review_id</th>\n",
       "      <th>book_id</th>\n",
       "      <th>username</th>\n",
       "      <th>text</th>\n",
       "    </tr>\n",
       "  </thead>\n",
       "  <tbody>\n",
       "    <tr>\n",
       "      <th>0</th>\n",
       "      <td>1</td>\n",
       "      <td>1</td>\n",
       "      <td>brandtandrea</td>\n",
       "      <td>Mention society tell send professor analysis. ...</td>\n",
       "    </tr>\n",
       "    <tr>\n",
       "      <th>1</th>\n",
       "      <td>2</td>\n",
       "      <td>1</td>\n",
       "      <td>ryanfranco</td>\n",
       "      <td>Foot glass pretty audience hit themselves. Amo...</td>\n",
       "    </tr>\n",
       "    <tr>\n",
       "      <th>2</th>\n",
       "      <td>3</td>\n",
       "      <td>2</td>\n",
       "      <td>lorichen</td>\n",
       "      <td>Listen treat keep worry. Miss husband tax but ...</td>\n",
       "    </tr>\n",
       "    <tr>\n",
       "      <th>3</th>\n",
       "      <td>4</td>\n",
       "      <td>3</td>\n",
       "      <td>johnsonamanda</td>\n",
       "      <td>Finally month interesting blue could nature cu...</td>\n",
       "    </tr>\n",
       "    <tr>\n",
       "      <th>4</th>\n",
       "      <td>5</td>\n",
       "      <td>3</td>\n",
       "      <td>scotttamara</td>\n",
       "      <td>Nation purpose heavy give wait song will. List...</td>\n",
       "    </tr>\n",
       "  </tbody>\n",
       "</table>\n",
       "</div>"
      ],
      "text/plain": [
       "   review_id  book_id       username  \\\n",
       "0          1        1   brandtandrea   \n",
       "1          2        1     ryanfranco   \n",
       "2          3        2       lorichen   \n",
       "3          4        3  johnsonamanda   \n",
       "4          5        3    scotttamara   \n",
       "\n",
       "                                                text  \n",
       "0  Mention society tell send professor analysis. ...  \n",
       "1  Foot glass pretty audience hit themselves. Amo...  \n",
       "2  Listen treat keep worry. Miss husband tax but ...  \n",
       "3  Finally month interesting blue could nature cu...  \n",
       "4  Nation purpose heavy give wait song will. List...  "
      ]
     },
     "execution_count": 10,
     "metadata": {},
     "output_type": "execute_result"
    }
   ],
   "source": [
    "query = '''\n",
    "            SELECT * \n",
    "            FROM reviews\n",
    "        '''\n",
    "reviews = pd.io.sql.read_sql(query, con = engine)\n",
    "reviews.head()"
   ]
  },
  {
   "cell_type": "markdown",
   "metadata": {},
   "source": [
    "Посмотрим общие данные, выведя основную информацию о датафрейме с помощью метода info()."
   ]
  },
  {
   "cell_type": "code",
   "execution_count": 11,
   "metadata": {},
   "outputs": [
    {
     "name": "stdout",
     "output_type": "stream",
     "text": [
      "<class 'pandas.core.frame.DataFrame'>\n",
      "RangeIndex: 2793 entries, 0 to 2792\n",
      "Data columns (total 4 columns):\n",
      " #   Column     Non-Null Count  Dtype \n",
      "---  ------     --------------  ----- \n",
      " 0   review_id  2793 non-null   int64 \n",
      " 1   book_id    2793 non-null   int64 \n",
      " 2   username   2793 non-null   object\n",
      " 3   text       2793 non-null   object\n",
      "dtypes: int64(2), object(2)\n",
      "memory usage: 87.4+ KB\n"
     ]
    }
   ],
   "source": [
    "reviews.info()"
   ]
  },
  {
   "cell_type": "markdown",
   "metadata": {},
   "source": [
    "Датафрейм reviews содержит 2793 строки и 4 столбца."
   ]
  },
  {
   "cell_type": "markdown",
   "metadata": {},
   "source": [
    "**Вывод**: Вывели данные, изучили датафреймы и посмотрели общие данные. В данных отсутствуют пропуски, тип данных не требует изменений."
   ]
  },
  {
   "cell_type": "markdown",
   "metadata": {},
   "source": [
    "## Анализ данных"
   ]
  },
  {
   "cell_type": "markdown",
   "metadata": {},
   "source": [
    "### Посчитаем, сколько книг вышло после 1 января 2000 года"
   ]
  },
  {
   "cell_type": "code",
   "execution_count": 12,
   "metadata": {},
   "outputs": [
    {
     "data": {
      "text/html": [
       "<div>\n",
       "<style scoped>\n",
       "    .dataframe tbody tr th:only-of-type {\n",
       "        vertical-align: middle;\n",
       "    }\n",
       "\n",
       "    .dataframe tbody tr th {\n",
       "        vertical-align: top;\n",
       "    }\n",
       "\n",
       "    .dataframe thead th {\n",
       "        text-align: right;\n",
       "    }\n",
       "</style>\n",
       "<table border=\"1\" class=\"dataframe\">\n",
       "  <thead>\n",
       "    <tr style=\"text-align: right;\">\n",
       "      <th></th>\n",
       "      <th>count_books</th>\n",
       "    </tr>\n",
       "  </thead>\n",
       "  <tbody>\n",
       "    <tr>\n",
       "      <th>0</th>\n",
       "      <td>819</td>\n",
       "    </tr>\n",
       "  </tbody>\n",
       "</table>\n",
       "</div>"
      ],
      "text/plain": [
       "   count_books\n",
       "0          819"
      ]
     },
     "execution_count": 12,
     "metadata": {},
     "output_type": "execute_result"
    }
   ],
   "source": [
    "query = '''\n",
    "            SELECT COUNT(book_id) AS count_books\n",
    "            FROM books \n",
    "            WHERE publication_date > '01-01-2000'\n",
    "        '''\n",
    "pd.io.sql.read_sql(query, con = engine)"
   ]
  },
  {
   "cell_type": "markdown",
   "metadata": {},
   "source": [
    "**Вывод**: 819 книг вышло после 1 января 2000 года."
   ]
  },
  {
   "cell_type": "markdown",
   "metadata": {},
   "source": [
    "### Для каждой книги посчитаем количество обзоров и среднюю оценку"
   ]
  },
  {
   "cell_type": "code",
   "execution_count": 13,
   "metadata": {},
   "outputs": [
    {
     "data": {
      "text/html": [
       "<div>\n",
       "<style scoped>\n",
       "    .dataframe tbody tr th:only-of-type {\n",
       "        vertical-align: middle;\n",
       "    }\n",
       "\n",
       "    .dataframe tbody tr th {\n",
       "        vertical-align: top;\n",
       "    }\n",
       "\n",
       "    .dataframe thead th {\n",
       "        text-align: right;\n",
       "    }\n",
       "</style>\n",
       "<table border=\"1\" class=\"dataframe\">\n",
       "  <thead>\n",
       "    <tr style=\"text-align: right;\">\n",
       "      <th></th>\n",
       "      <th>title</th>\n",
       "      <th>id</th>\n",
       "      <th>avg_rating</th>\n",
       "      <th>count_reviews</th>\n",
       "    </tr>\n",
       "  </thead>\n",
       "  <tbody>\n",
       "    <tr>\n",
       "      <th>0</th>\n",
       "      <td>Twilight (Twilight  #1)</td>\n",
       "      <td>948</td>\n",
       "      <td>3.662500</td>\n",
       "      <td>7</td>\n",
       "    </tr>\n",
       "    <tr>\n",
       "      <th>1</th>\n",
       "      <td>Water for Elephants</td>\n",
       "      <td>963</td>\n",
       "      <td>3.977273</td>\n",
       "      <td>6</td>\n",
       "    </tr>\n",
       "    <tr>\n",
       "      <th>2</th>\n",
       "      <td>The Glass Castle</td>\n",
       "      <td>734</td>\n",
       "      <td>4.206897</td>\n",
       "      <td>6</td>\n",
       "    </tr>\n",
       "    <tr>\n",
       "      <th>3</th>\n",
       "      <td>Harry Potter and the Prisoner of Azkaban (Harr...</td>\n",
       "      <td>302</td>\n",
       "      <td>4.414634</td>\n",
       "      <td>6</td>\n",
       "    </tr>\n",
       "    <tr>\n",
       "      <th>4</th>\n",
       "      <td>The Curious Incident of the Dog in the Night-Time</td>\n",
       "      <td>695</td>\n",
       "      <td>4.081081</td>\n",
       "      <td>6</td>\n",
       "    </tr>\n",
       "    <tr>\n",
       "      <th>...</th>\n",
       "      <td>...</td>\n",
       "      <td>...</td>\n",
       "      <td>...</td>\n",
       "      <td>...</td>\n",
       "    </tr>\n",
       "    <tr>\n",
       "      <th>995</th>\n",
       "      <td>Anne Rice's The Vampire Lestat: A Graphic Novel</td>\n",
       "      <td>83</td>\n",
       "      <td>3.666667</td>\n",
       "      <td>0</td>\n",
       "    </tr>\n",
       "    <tr>\n",
       "      <th>996</th>\n",
       "      <td>The Natural Way to Draw</td>\n",
       "      <td>808</td>\n",
       "      <td>3.000000</td>\n",
       "      <td>0</td>\n",
       "    </tr>\n",
       "    <tr>\n",
       "      <th>997</th>\n",
       "      <td>The Cat in the Hat and Other Dr. Seuss Favorites</td>\n",
       "      <td>672</td>\n",
       "      <td>5.000000</td>\n",
       "      <td>0</td>\n",
       "    </tr>\n",
       "    <tr>\n",
       "      <th>998</th>\n",
       "      <td>Essential Tales and Poems</td>\n",
       "      <td>221</td>\n",
       "      <td>4.000000</td>\n",
       "      <td>0</td>\n",
       "    </tr>\n",
       "    <tr>\n",
       "      <th>999</th>\n",
       "      <td>Disney's Beauty and the Beast (A Little Golden...</td>\n",
       "      <td>191</td>\n",
       "      <td>4.000000</td>\n",
       "      <td>0</td>\n",
       "    </tr>\n",
       "  </tbody>\n",
       "</table>\n",
       "<p>1000 rows × 4 columns</p>\n",
       "</div>"
      ],
      "text/plain": [
       "                                                 title   id  avg_rating  \\\n",
       "0                              Twilight (Twilight  #1)  948    3.662500   \n",
       "1                                  Water for Elephants  963    3.977273   \n",
       "2                                     The Glass Castle  734    4.206897   \n",
       "3    Harry Potter and the Prisoner of Azkaban (Harr...  302    4.414634   \n",
       "4    The Curious Incident of the Dog in the Night-Time  695    4.081081   \n",
       "..                                                 ...  ...         ...   \n",
       "995    Anne Rice's The Vampire Lestat: A Graphic Novel   83    3.666667   \n",
       "996                            The Natural Way to Draw  808    3.000000   \n",
       "997   The Cat in the Hat and Other Dr. Seuss Favorites  672    5.000000   \n",
       "998                          Essential Tales and Poems  221    4.000000   \n",
       "999  Disney's Beauty and the Beast (A Little Golden...  191    4.000000   \n",
       "\n",
       "     count_reviews  \n",
       "0                7  \n",
       "1                6  \n",
       "2                6  \n",
       "3                6  \n",
       "4                6  \n",
       "..             ...  \n",
       "995              0  \n",
       "996              0  \n",
       "997              0  \n",
       "998              0  \n",
       "999              0  \n",
       "\n",
       "[1000 rows x 4 columns]"
      ]
     },
     "execution_count": 13,
     "metadata": {},
     "output_type": "execute_result"
    }
   ],
   "source": [
    "query = '''\n",
    "            SELECT books.title AS title, \n",
    "                   books.book_id AS id, \n",
    "                   AVG(ratings.rating) AS avg_rating, \n",
    "                   COUNT(DISTINCT reviews.review_id) AS count_reviews\n",
    "            FROM books\n",
    "            LEFT JOIN ratings ON ratings.book_id = books.book_id\n",
    "            LEFT JOIN reviews ON reviews.book_id = books.book_id\n",
    "            GROUP BY title, \n",
    "                     books.book_id\n",
    "            ORDER BY count_reviews DESC\n",
    "            \n",
    "        '''\n",
    "pd.io.sql.read_sql(query, con = engine)"
   ]
  },
  {
   "cell_type": "markdown",
   "metadata": {},
   "source": [
    "**Вывод**: Самое большое количество обзоров занимает книга Twilight (Twilight #1). Количество обзоров равняется 7. Средняя оценка 3.66. Очень много книг со средней оценкой 5, но количество обзоров в основном равняется 2."
   ]
  },
  {
   "cell_type": "markdown",
   "metadata": {},
   "source": [
    "### Определим издательство, которое выпустило наибольшее число книг толще 50 страниц — так вы исключите из анализа брошюры"
   ]
  },
  {
   "cell_type": "code",
   "execution_count": 14,
   "metadata": {},
   "outputs": [
    {
     "data": {
      "text/html": [
       "<div>\n",
       "<style scoped>\n",
       "    .dataframe tbody tr th:only-of-type {\n",
       "        vertical-align: middle;\n",
       "    }\n",
       "\n",
       "    .dataframe tbody tr th {\n",
       "        vertical-align: top;\n",
       "    }\n",
       "\n",
       "    .dataframe thead th {\n",
       "        text-align: right;\n",
       "    }\n",
       "</style>\n",
       "<table border=\"1\" class=\"dataframe\">\n",
       "  <thead>\n",
       "    <tr style=\"text-align: right;\">\n",
       "      <th></th>\n",
       "      <th>count_books</th>\n",
       "      <th>publisher</th>\n",
       "    </tr>\n",
       "  </thead>\n",
       "  <tbody>\n",
       "    <tr>\n",
       "      <th>0</th>\n",
       "      <td>42</td>\n",
       "      <td>Penguin Books</td>\n",
       "    </tr>\n",
       "    <tr>\n",
       "      <th>1</th>\n",
       "      <td>31</td>\n",
       "      <td>Vintage</td>\n",
       "    </tr>\n",
       "    <tr>\n",
       "      <th>2</th>\n",
       "      <td>25</td>\n",
       "      <td>Grand Central Publishing</td>\n",
       "    </tr>\n",
       "    <tr>\n",
       "      <th>3</th>\n",
       "      <td>24</td>\n",
       "      <td>Penguin Classics</td>\n",
       "    </tr>\n",
       "    <tr>\n",
       "      <th>4</th>\n",
       "      <td>19</td>\n",
       "      <td>Ballantine Books</td>\n",
       "    </tr>\n",
       "    <tr>\n",
       "      <th>5</th>\n",
       "      <td>19</td>\n",
       "      <td>Bantam</td>\n",
       "    </tr>\n",
       "    <tr>\n",
       "      <th>6</th>\n",
       "      <td>17</td>\n",
       "      <td>Berkley</td>\n",
       "    </tr>\n",
       "    <tr>\n",
       "      <th>7</th>\n",
       "      <td>14</td>\n",
       "      <td>Berkley Books</td>\n",
       "    </tr>\n",
       "    <tr>\n",
       "      <th>8</th>\n",
       "      <td>14</td>\n",
       "      <td>St. Martin's Press</td>\n",
       "    </tr>\n",
       "    <tr>\n",
       "      <th>9</th>\n",
       "      <td>13</td>\n",
       "      <td>Delta</td>\n",
       "    </tr>\n",
       "    <tr>\n",
       "      <th>10</th>\n",
       "      <td>13</td>\n",
       "      <td>William Morrow Paperbacks</td>\n",
       "    </tr>\n",
       "    <tr>\n",
       "      <th>11</th>\n",
       "      <td>12</td>\n",
       "      <td>HarperCollins</td>\n",
       "    </tr>\n",
       "    <tr>\n",
       "      <th>12</th>\n",
       "      <td>12</td>\n",
       "      <td>Little  Brown and Company</td>\n",
       "    </tr>\n",
       "    <tr>\n",
       "      <th>13</th>\n",
       "      <td>12</td>\n",
       "      <td>Harper Perennial</td>\n",
       "    </tr>\n",
       "    <tr>\n",
       "      <th>14</th>\n",
       "      <td>11</td>\n",
       "      <td>Tor Books</td>\n",
       "    </tr>\n",
       "    <tr>\n",
       "      <th>15</th>\n",
       "      <td>11</td>\n",
       "      <td>Back Bay Books</td>\n",
       "    </tr>\n",
       "    <tr>\n",
       "      <th>16</th>\n",
       "      <td>10</td>\n",
       "      <td>Signet</td>\n",
       "    </tr>\n",
       "    <tr>\n",
       "      <th>17</th>\n",
       "      <td>10</td>\n",
       "      <td>Vertigo</td>\n",
       "    </tr>\n",
       "    <tr>\n",
       "      <th>18</th>\n",
       "      <td>10</td>\n",
       "      <td>Mariner Books</td>\n",
       "    </tr>\n",
       "    <tr>\n",
       "      <th>19</th>\n",
       "      <td>10</td>\n",
       "      <td>Penguin</td>\n",
       "    </tr>\n",
       "  </tbody>\n",
       "</table>\n",
       "</div>"
      ],
      "text/plain": [
       "    count_books                  publisher\n",
       "0            42              Penguin Books\n",
       "1            31                    Vintage\n",
       "2            25   Grand Central Publishing\n",
       "3            24           Penguin Classics\n",
       "4            19           Ballantine Books\n",
       "5            19                     Bantam\n",
       "6            17                    Berkley\n",
       "7            14              Berkley Books\n",
       "8            14         St. Martin's Press\n",
       "9            13                      Delta\n",
       "10           13  William Morrow Paperbacks\n",
       "11           12              HarperCollins\n",
       "12           12  Little  Brown and Company\n",
       "13           12           Harper Perennial\n",
       "14           11                  Tor Books\n",
       "15           11             Back Bay Books\n",
       "16           10                     Signet\n",
       "17           10                    Vertigo\n",
       "18           10              Mariner Books\n",
       "19           10                    Penguin"
      ]
     },
     "execution_count": 14,
     "metadata": {},
     "output_type": "execute_result"
    }
   ],
   "source": [
    "query = '''\n",
    "            SELECT COUNT(books.book_id) AS count_books,\n",
    "                   publishers.publisher\n",
    "            FROM publishers\n",
    "            INNER JOIN books ON books.publisher_id = publishers.publisher_id\n",
    "            WHERE num_pages > 50\n",
    "            GROUP BY publishers.publisher_id\n",
    "            ORDER BY count_books DESC\n",
    "            LIMIT 20;\n",
    "        '''\n",
    "pd.io.sql.read_sql(query, con = engine)"
   ]
  },
  {
   "cell_type": "markdown",
   "metadata": {},
   "source": [
    "**Вывод**: Издательство, которое выпустило наибольшее число книг толще 50 страниц — Penguin Books. Число выпущенных книг составляет 42."
   ]
  },
  {
   "cell_type": "markdown",
   "metadata": {},
   "source": [
    "### Определим автора с самой высокой средней оценкой книг — учитывайте только книги с 50 и более оценками"
   ]
  },
  {
   "cell_type": "code",
   "execution_count": 15,
   "metadata": {},
   "outputs": [
    {
     "data": {
      "text/html": [
       "<div>\n",
       "<style scoped>\n",
       "    .dataframe tbody tr th:only-of-type {\n",
       "        vertical-align: middle;\n",
       "    }\n",
       "\n",
       "    .dataframe tbody tr th {\n",
       "        vertical-align: top;\n",
       "    }\n",
       "\n",
       "    .dataframe thead th {\n",
       "        text-align: right;\n",
       "    }\n",
       "</style>\n",
       "<table border=\"1\" class=\"dataframe\">\n",
       "  <thead>\n",
       "    <tr style=\"text-align: right;\">\n",
       "      <th></th>\n",
       "      <th>author</th>\n",
       "      <th>avg_rating</th>\n",
       "    </tr>\n",
       "  </thead>\n",
       "  <tbody>\n",
       "    <tr>\n",
       "      <th>0</th>\n",
       "      <td>J.K. Rowling/Mary GrandPré</td>\n",
       "      <td>4.283844</td>\n",
       "    </tr>\n",
       "    <tr>\n",
       "      <th>1</th>\n",
       "      <td>Markus Zusak/Cao Xuân Việt Khương</td>\n",
       "      <td>4.264151</td>\n",
       "    </tr>\n",
       "    <tr>\n",
       "      <th>2</th>\n",
       "      <td>J.R.R. Tolkien</td>\n",
       "      <td>4.258446</td>\n",
       "    </tr>\n",
       "    <tr>\n",
       "      <th>3</th>\n",
       "      <td>Louisa May Alcott</td>\n",
       "      <td>4.192308</td>\n",
       "    </tr>\n",
       "    <tr>\n",
       "      <th>4</th>\n",
       "      <td>Rick Riordan</td>\n",
       "      <td>4.080645</td>\n",
       "    </tr>\n",
       "    <tr>\n",
       "      <th>5</th>\n",
       "      <td>William Golding</td>\n",
       "      <td>3.901408</td>\n",
       "    </tr>\n",
       "    <tr>\n",
       "      <th>6</th>\n",
       "      <td>J.D. Salinger</td>\n",
       "      <td>3.825581</td>\n",
       "    </tr>\n",
       "    <tr>\n",
       "      <th>7</th>\n",
       "      <td>Paulo Coelho/Alan R. Clarke/Özdemir İnce</td>\n",
       "      <td>3.789474</td>\n",
       "    </tr>\n",
       "    <tr>\n",
       "      <th>8</th>\n",
       "      <td>William Shakespeare/Paul Werstine/Barbara A. M...</td>\n",
       "      <td>3.787879</td>\n",
       "    </tr>\n",
       "    <tr>\n",
       "      <th>9</th>\n",
       "      <td>Dan Brown</td>\n",
       "      <td>3.754540</td>\n",
       "    </tr>\n",
       "    <tr>\n",
       "      <th>10</th>\n",
       "      <td>Lois Lowry</td>\n",
       "      <td>3.750000</td>\n",
       "    </tr>\n",
       "    <tr>\n",
       "      <th>11</th>\n",
       "      <td>George Orwell/Boris Grabnar/Peter Škerl</td>\n",
       "      <td>3.729730</td>\n",
       "    </tr>\n",
       "    <tr>\n",
       "      <th>12</th>\n",
       "      <td>Stephenie Meyer</td>\n",
       "      <td>3.662500</td>\n",
       "    </tr>\n",
       "    <tr>\n",
       "      <th>13</th>\n",
       "      <td>John Steinbeck</td>\n",
       "      <td>3.622951</td>\n",
       "    </tr>\n",
       "  </tbody>\n",
       "</table>\n",
       "</div>"
      ],
      "text/plain": [
       "                                               author  avg_rating\n",
       "0                          J.K. Rowling/Mary GrandPré    4.283844\n",
       "1                   Markus Zusak/Cao Xuân Việt Khương    4.264151\n",
       "2                                      J.R.R. Tolkien    4.258446\n",
       "3                                   Louisa May Alcott    4.192308\n",
       "4                                        Rick Riordan    4.080645\n",
       "5                                     William Golding    3.901408\n",
       "6                                       J.D. Salinger    3.825581\n",
       "7            Paulo Coelho/Alan R. Clarke/Özdemir İnce    3.789474\n",
       "8   William Shakespeare/Paul Werstine/Barbara A. M...    3.787879\n",
       "9                                           Dan Brown    3.754540\n",
       "10                                         Lois Lowry    3.750000\n",
       "11            George Orwell/Boris Grabnar/Peter Škerl    3.729730\n",
       "12                                    Stephenie Meyer    3.662500\n",
       "13                                     John Steinbeck    3.622951"
      ]
     },
     "execution_count": 15,
     "metadata": {},
     "output_type": "execute_result"
    }
   ],
   "source": [
    "query = '''\n",
    "            SELECT i.author AS author,\n",
    "                   AVG(i.avg_rating) AS avg_rating\n",
    "            FROM \n",
    "                (SELECT a.author AS author,\n",
    "                        b.book_id AS id,\n",
    "                        AVG(r.rating) AS avg_rating,\n",
    "                        COUNT(r.rating) AS count_rating\n",
    "                FROM authors AS a\n",
    "                INNER JOIN books AS b ON b.author_id = a.author_id\n",
    "                INNER JOIN ratings AS r ON r.book_id = b.book_id\n",
    "                GROUP BY a.author, b.book_id\n",
    "                HAVING COUNT(r.rating) >= 50) AS i\n",
    "                \n",
    "            GROUP BY author\n",
    "            ORDER BY avg_rating DESC\n",
    "        '''\n",
    "pd.io.sql.read_sql(query, con = engine)"
   ]
  },
  {
   "cell_type": "markdown",
   "metadata": {},
   "source": [
    "**Вывод**: Автор с самой высокой средней оценкой книг(учитывая только книги с 50 и более оценками) — J.K. Rowling/Mary GrandPré. Средняя оценка его книг составляет 4.28."
   ]
  },
  {
   "cell_type": "markdown",
   "metadata": {},
   "source": [
    "### Посчитаем среднее количество обзоров от пользователей, которые поставили больше 48 оценок."
   ]
  },
  {
   "cell_type": "code",
   "execution_count": 16,
   "metadata": {},
   "outputs": [
    {
     "data": {
      "text/html": [
       "<div>\n",
       "<style scoped>\n",
       "    .dataframe tbody tr th:only-of-type {\n",
       "        vertical-align: middle;\n",
       "    }\n",
       "\n",
       "    .dataframe tbody tr th {\n",
       "        vertical-align: top;\n",
       "    }\n",
       "\n",
       "    .dataframe thead th {\n",
       "        text-align: right;\n",
       "    }\n",
       "</style>\n",
       "<table border=\"1\" class=\"dataframe\">\n",
       "  <thead>\n",
       "    <tr style=\"text-align: right;\">\n",
       "      <th></th>\n",
       "      <th>avg_count_review</th>\n",
       "    </tr>\n",
       "  </thead>\n",
       "  <tbody>\n",
       "    <tr>\n",
       "      <th>0</th>\n",
       "      <td>24.0</td>\n",
       "    </tr>\n",
       "  </tbody>\n",
       "</table>\n",
       "</div>"
      ],
      "text/plain": [
       "   avg_count_review\n",
       "0              24.0"
      ]
     },
     "execution_count": 16,
     "metadata": {},
     "output_type": "execute_result"
    }
   ],
   "source": [
    "query = '''\n",
    "            SELECT AVG(i.count_reviews) AS avg_count_review\n",
    "            FROM \n",
    "                (SELECT username,\n",
    "                        COUNT(review_id) AS count_reviews\n",
    "                FROM reviews\n",
    "                WHERE username IN\n",
    "                        (SELECT username\n",
    "                        FROM ratings\n",
    "                        GROUP BY username\n",
    "                        HAVING COUNT(rating_id) > 48)\n",
    "                GROUP BY username) AS i\n",
    "        '''\n",
    "pd.io.sql.read_sql(query, con = engine)"
   ]
  },
  {
   "cell_type": "markdown",
   "metadata": {},
   "source": [
    "**Вывод**: Среднее количество обзоров от пользователей, которые поставили больше 48 оценок равняется 24."
   ]
  },
  {
   "cell_type": "markdown",
   "metadata": {},
   "source": [
    "## Выводы"
   ]
  },
  {
   "cell_type": "markdown",
   "metadata": {},
   "source": [
    "* 819 книг вышло после 1 января 2000 года,\n",
    "\n",
    "* Самое большое количество обзоров занимает книга Twilight (Twilight #1). Количество обзоров равняется 7. Средняя оценка 3.66. Очень много книг со средней оценкой 5, но количество обзоров в основном равняется 2.\n",
    "\n",
    "* Издательство, которое выпустило наибольшее число книг толще 50 страниц — Penguin Books. Число выпущенных книг составляет 42.\n",
    "\n",
    "* Автор с самой высокой средней оценкой книг(учитывая только книги с 50 и более оценками) — J.K. Rowling/Mary GrandPré. Средняя оценка его книг составляет 4.28.\n",
    "\n",
    "* Среднее количество обзоров от пользователей, которые поставили больше 48 оценок равняется 24."
   ]
  }
 ],
 "metadata": {
  "ExecuteTimeLog": [
   {
    "duration": 0,
    "start_time": "2023-08-26T12:23:39.669Z"
   },
   {
    "duration": 0,
    "start_time": "2023-08-26T12:23:39.670Z"
   },
   {
    "duration": 0,
    "start_time": "2023-08-26T12:23:39.671Z"
   },
   {
    "duration": 47,
    "start_time": "2023-08-26T12:23:49.512Z"
   },
   {
    "duration": 111,
    "start_time": "2023-08-26T12:23:51.490Z"
   },
   {
    "duration": 14,
    "start_time": "2023-08-26T12:23:51.971Z"
   },
   {
    "duration": 46,
    "start_time": "2023-08-26T12:24:09.834Z"
   },
   {
    "duration": 13010,
    "start_time": "2023-08-26T12:33:11.972Z"
   },
   {
    "duration": 25,
    "start_time": "2023-08-26T12:33:24.985Z"
   },
   {
    "duration": 15,
    "start_time": "2023-08-26T12:33:25.012Z"
   },
   {
    "duration": 43,
    "start_time": "2023-08-26T12:33:25.029Z"
   },
   {
    "duration": 36,
    "start_time": "2023-08-26T12:33:25.076Z"
   },
   {
    "duration": 43,
    "start_time": "2023-08-26T12:33:25.114Z"
   },
   {
    "duration": 10,
    "start_time": "2023-08-26T12:33:25.159Z"
   },
   {
    "duration": 42,
    "start_time": "2023-08-26T12:33:25.171Z"
   },
   {
    "duration": 12,
    "start_time": "2023-08-26T12:33:25.215Z"
   },
   {
    "duration": 29,
    "start_time": "2023-08-26T12:33:25.229Z"
   },
   {
    "duration": 17,
    "start_time": "2023-08-26T12:33:25.261Z"
   },
   {
    "duration": 30,
    "start_time": "2023-08-26T12:33:25.281Z"
   },
   {
    "duration": 32,
    "start_time": "2023-08-26T12:33:25.313Z"
   },
   {
    "duration": 13,
    "start_time": "2023-08-26T12:33:25.348Z"
   },
   {
    "duration": 43,
    "start_time": "2023-08-26T12:33:25.363Z"
   },
   {
    "duration": 133,
    "start_time": "2023-08-26T12:33:25.408Z"
   },
   {
    "duration": 14165,
    "start_time": "2023-08-26T12:35:47.986Z"
   },
   {
    "duration": 31,
    "start_time": "2023-08-26T12:36:02.154Z"
   },
   {
    "duration": 98,
    "start_time": "2023-08-26T12:36:02.187Z"
   },
   {
    "duration": 28,
    "start_time": "2023-08-26T12:36:02.291Z"
   },
   {
    "duration": 12,
    "start_time": "2023-08-26T12:36:02.321Z"
   },
   {
    "duration": 73,
    "start_time": "2023-08-26T12:36:02.335Z"
   },
   {
    "duration": 21,
    "start_time": "2023-08-26T12:36:02.410Z"
   },
   {
    "duration": 84,
    "start_time": "2023-08-26T12:36:02.433Z"
   },
   {
    "duration": 14,
    "start_time": "2023-08-26T12:36:02.519Z"
   },
   {
    "duration": 50,
    "start_time": "2023-08-26T12:36:02.535Z"
   },
   {
    "duration": 16,
    "start_time": "2023-08-26T12:36:02.588Z"
   },
   {
    "duration": 28,
    "start_time": "2023-08-26T12:36:02.606Z"
   },
   {
    "duration": 57,
    "start_time": "2023-08-26T12:36:02.636Z"
   },
   {
    "duration": 14,
    "start_time": "2023-08-26T12:36:02.696Z"
   },
   {
    "duration": 27,
    "start_time": "2023-08-26T12:36:02.712Z"
   },
   {
    "duration": 50,
    "start_time": "2023-08-26T12:36:02.741Z"
   },
   {
    "duration": 12951,
    "start_time": "2023-08-26T12:38:22.986Z"
   },
   {
    "duration": 17,
    "start_time": "2023-08-26T12:38:35.939Z"
   },
   {
    "duration": 38,
    "start_time": "2023-08-26T12:38:35.957Z"
   },
   {
    "duration": 19,
    "start_time": "2023-08-26T12:38:35.997Z"
   },
   {
    "duration": 13,
    "start_time": "2023-08-26T12:38:36.019Z"
   },
   {
    "duration": 27,
    "start_time": "2023-08-26T12:38:36.034Z"
   },
   {
    "duration": 19,
    "start_time": "2023-08-26T12:38:36.063Z"
   },
   {
    "duration": 54,
    "start_time": "2023-08-26T12:38:36.083Z"
   },
   {
    "duration": 11,
    "start_time": "2023-08-26T12:38:36.138Z"
   },
   {
    "duration": 32,
    "start_time": "2023-08-26T12:38:36.151Z"
   },
   {
    "duration": 15,
    "start_time": "2023-08-26T12:38:36.185Z"
   },
   {
    "duration": 30,
    "start_time": "2023-08-26T12:38:36.202Z"
   },
   {
    "duration": 31,
    "start_time": "2023-08-26T12:38:36.234Z"
   },
   {
    "duration": 12,
    "start_time": "2023-08-26T12:38:36.268Z"
   },
   {
    "duration": 42,
    "start_time": "2023-08-26T12:38:36.282Z"
   },
   {
    "duration": 13,
    "start_time": "2023-08-26T12:38:36.326Z"
   },
   {
    "duration": 16834,
    "start_time": "2023-08-26T12:40:46.522Z"
   },
   {
    "duration": 37,
    "start_time": "2023-08-26T12:41:03.358Z"
   },
   {
    "duration": 16,
    "start_time": "2023-08-26T12:41:03.397Z"
   },
   {
    "duration": 17,
    "start_time": "2023-08-26T12:41:03.415Z"
   },
   {
    "duration": 16,
    "start_time": "2023-08-26T12:41:03.434Z"
   },
   {
    "duration": 56,
    "start_time": "2023-08-26T12:41:03.453Z"
   },
   {
    "duration": 13,
    "start_time": "2023-08-26T12:41:03.511Z"
   },
   {
    "duration": 31,
    "start_time": "2023-08-26T12:41:03.525Z"
   },
   {
    "duration": 13,
    "start_time": "2023-08-26T12:41:03.558Z"
   },
   {
    "duration": 52,
    "start_time": "2023-08-26T12:41:03.573Z"
   },
   {
    "duration": 11,
    "start_time": "2023-08-26T12:41:03.626Z"
   },
   {
    "duration": 79,
    "start_time": "2023-08-26T12:41:03.639Z"
   },
   {
    "duration": 30,
    "start_time": "2023-08-26T12:41:03.720Z"
   },
   {
    "duration": 23,
    "start_time": "2023-08-26T12:41:03.753Z"
   },
   {
    "duration": 47,
    "start_time": "2023-08-26T12:41:03.778Z"
   },
   {
    "duration": 14,
    "start_time": "2023-08-26T12:41:03.826Z"
   },
   {
    "duration": 15,
    "start_time": "2023-08-26T12:42:20.097Z"
   },
   {
    "duration": 12901,
    "start_time": "2023-08-26T12:43:18.843Z"
   },
   {
    "duration": 18,
    "start_time": "2023-08-26T12:43:31.746Z"
   },
   {
    "duration": 25,
    "start_time": "2023-08-26T12:43:31.766Z"
   },
   {
    "duration": 40,
    "start_time": "2023-08-26T12:43:31.792Z"
   },
   {
    "duration": 22,
    "start_time": "2023-08-26T12:43:31.834Z"
   },
   {
    "duration": 37,
    "start_time": "2023-08-26T12:43:31.858Z"
   },
   {
    "duration": 24,
    "start_time": "2023-08-26T12:43:31.897Z"
   },
   {
    "duration": 74,
    "start_time": "2023-08-26T12:43:31.922Z"
   },
   {
    "duration": 11,
    "start_time": "2023-08-26T12:43:31.997Z"
   },
   {
    "duration": 45,
    "start_time": "2023-08-26T12:43:32.010Z"
   },
   {
    "duration": 16,
    "start_time": "2023-08-26T12:43:32.057Z"
   },
   {
    "duration": 66,
    "start_time": "2023-08-26T12:43:32.074Z"
   },
   {
    "duration": 41,
    "start_time": "2023-08-26T12:43:32.142Z"
   },
   {
    "duration": 14,
    "start_time": "2023-08-26T12:43:32.186Z"
   },
   {
    "duration": 40,
    "start_time": "2023-08-26T12:43:32.202Z"
   },
   {
    "duration": 15,
    "start_time": "2023-08-26T12:43:32.243Z"
   },
   {
    "duration": 33536,
    "start_time": "2023-08-26T13:22:59.509Z"
   },
   {
    "duration": 26,
    "start_time": "2023-08-26T13:23:33.047Z"
   },
   {
    "duration": 14,
    "start_time": "2023-08-26T13:23:33.076Z"
   },
   {
    "duration": 16,
    "start_time": "2023-08-26T13:23:33.093Z"
   },
   {
    "duration": 12,
    "start_time": "2023-08-26T13:23:33.110Z"
   },
   {
    "duration": 46,
    "start_time": "2023-08-26T13:23:33.124Z"
   },
   {
    "duration": 12,
    "start_time": "2023-08-26T13:23:33.172Z"
   },
   {
    "duration": 32,
    "start_time": "2023-08-26T13:23:33.186Z"
   },
   {
    "duration": 24,
    "start_time": "2023-08-26T13:23:33.220Z"
   },
   {
    "duration": 30,
    "start_time": "2023-08-26T13:23:33.246Z"
   },
   {
    "duration": 12,
    "start_time": "2023-08-26T13:23:33.278Z"
   },
   {
    "duration": 14,
    "start_time": "2023-08-26T13:23:33.291Z"
   },
   {
    "duration": 32,
    "start_time": "2023-08-26T13:23:33.307Z"
   },
   {
    "duration": 13,
    "start_time": "2023-08-26T13:23:33.340Z"
   },
   {
    "duration": 21,
    "start_time": "2023-08-26T13:23:33.355Z"
   },
   {
    "duration": 13,
    "start_time": "2023-08-26T13:23:33.377Z"
   },
   {
    "duration": 34,
    "start_time": "2023-08-26T13:24:15.176Z"
   },
   {
    "duration": 12638,
    "start_time": "2023-08-26T15:39:03.197Z"
   },
   {
    "duration": 16,
    "start_time": "2023-08-26T15:39:15.837Z"
   },
   {
    "duration": 10,
    "start_time": "2023-08-26T15:39:15.854Z"
   },
   {
    "duration": 25,
    "start_time": "2023-08-26T15:39:15.867Z"
   },
   {
    "duration": 11,
    "start_time": "2023-08-26T15:39:15.893Z"
   },
   {
    "duration": 13,
    "start_time": "2023-08-26T15:39:15.906Z"
   },
   {
    "duration": 17,
    "start_time": "2023-08-26T15:39:15.921Z"
   },
   {
    "duration": 34,
    "start_time": "2023-08-26T15:39:15.939Z"
   },
   {
    "duration": 9,
    "start_time": "2023-08-26T15:39:15.975Z"
   },
   {
    "duration": 20,
    "start_time": "2023-08-26T15:39:15.986Z"
   },
   {
    "duration": 9,
    "start_time": "2023-08-26T15:39:16.008Z"
   },
   {
    "duration": 23,
    "start_time": "2023-08-26T15:39:16.018Z"
   },
   {
    "duration": 56,
    "start_time": "2023-08-26T15:39:16.042Z"
   },
   {
    "duration": 14,
    "start_time": "2023-08-26T15:39:16.100Z"
   },
   {
    "duration": 24,
    "start_time": "2023-08-26T15:39:16.116Z"
   },
   {
    "duration": 12,
    "start_time": "2023-08-26T15:39:16.141Z"
   },
   {
    "duration": 13401,
    "start_time": "2023-08-26T16:16:59.680Z"
   },
   {
    "duration": 18,
    "start_time": "2023-08-26T16:17:13.084Z"
   },
   {
    "duration": 11,
    "start_time": "2023-08-26T16:17:13.104Z"
   },
   {
    "duration": 25,
    "start_time": "2023-08-26T16:17:13.116Z"
   },
   {
    "duration": 21,
    "start_time": "2023-08-26T16:17:13.143Z"
   },
   {
    "duration": 19,
    "start_time": "2023-08-26T16:17:13.167Z"
   },
   {
    "duration": 10,
    "start_time": "2023-08-26T16:17:13.188Z"
   },
   {
    "duration": 42,
    "start_time": "2023-08-26T16:17:13.200Z"
   },
   {
    "duration": 18,
    "start_time": "2023-08-26T16:17:13.244Z"
   },
   {
    "duration": 29,
    "start_time": "2023-08-26T16:17:13.265Z"
   },
   {
    "duration": 10,
    "start_time": "2023-08-26T16:17:13.296Z"
   },
   {
    "duration": 11,
    "start_time": "2023-08-26T16:17:13.307Z"
   },
   {
    "duration": 28,
    "start_time": "2023-08-26T16:17:13.319Z"
   },
   {
    "duration": 18,
    "start_time": "2023-08-26T16:17:13.350Z"
   },
   {
    "duration": 20,
    "start_time": "2023-08-26T16:17:13.371Z"
   },
   {
    "duration": 12,
    "start_time": "2023-08-26T16:17:13.393Z"
   },
   {
    "duration": 32,
    "start_time": "2023-08-26T16:32:56.920Z"
   },
   {
    "duration": 31,
    "start_time": "2023-08-26T16:36:50.362Z"
   },
   {
    "duration": 28,
    "start_time": "2023-08-26T16:37:10.853Z"
   },
   {
    "duration": 13039,
    "start_time": "2023-08-26T17:20:53.976Z"
   },
   {
    "duration": 22,
    "start_time": "2023-08-26T17:21:07.017Z"
   },
   {
    "duration": 13,
    "start_time": "2023-08-26T17:21:07.043Z"
   },
   {
    "duration": 41,
    "start_time": "2023-08-26T17:21:07.060Z"
   },
   {
    "duration": 10,
    "start_time": "2023-08-26T17:21:07.103Z"
   },
   {
    "duration": 24,
    "start_time": "2023-08-26T17:21:07.115Z"
   },
   {
    "duration": 15,
    "start_time": "2023-08-26T17:21:07.141Z"
   },
   {
    "duration": 29,
    "start_time": "2023-08-26T17:21:07.158Z"
   },
   {
    "duration": 11,
    "start_time": "2023-08-26T17:21:07.188Z"
   },
   {
    "duration": 23,
    "start_time": "2023-08-26T17:21:07.202Z"
   },
   {
    "duration": 36,
    "start_time": "2023-08-26T17:21:07.227Z"
   },
   {
    "duration": 22,
    "start_time": "2023-08-26T17:21:07.265Z"
   },
   {
    "duration": 33,
    "start_time": "2023-08-26T17:21:07.289Z"
   },
   {
    "duration": 23,
    "start_time": "2023-08-26T17:21:07.325Z"
   },
   {
    "duration": 23,
    "start_time": "2023-08-26T17:21:07.350Z"
   },
   {
    "duration": 15,
    "start_time": "2023-08-26T17:21:07.375Z"
   }
  ],
  "kernelspec": {
   "display_name": "Python 3 (ipykernel)",
   "language": "python",
   "name": "python3"
  },
  "language_info": {
   "codemirror_mode": {
    "name": "ipython",
    "version": 3
   },
   "file_extension": ".py",
   "mimetype": "text/x-python",
   "name": "python",
   "nbconvert_exporter": "python",
   "pygments_lexer": "ipython3",
   "version": "3.11.3"
  },
  "toc": {
   "base_numbering": 1,
   "nav_menu": {},
   "number_sections": true,
   "sideBar": true,
   "skip_h1_title": true,
   "title_cell": "Содержание",
   "title_sidebar": "Contents",
   "toc_cell": true,
   "toc_position": {},
   "toc_section_display": true,
   "toc_window_display": true
  }
 },
 "nbformat": 4,
 "nbformat_minor": 2
}
