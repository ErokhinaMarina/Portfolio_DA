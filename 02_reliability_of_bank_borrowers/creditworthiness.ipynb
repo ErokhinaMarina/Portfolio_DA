{
 "cells": [
  {
   "cell_type": "markdown",
   "id": "bef904f3",
   "metadata": {
    "toc": true
   },
   "source": [
    "<h1>Содержание<span class=\"tocSkip\"></span></h1>\n",
    "<div class=\"toc\"><ul class=\"toc-item\"><li><span><a href=\"#Изучение-общей-информации-о-данных\" data-toc-modified-id=\"Изучение-общей-информации-о-данных-1\"><span class=\"toc-item-num\">1&nbsp;&nbsp;</span>Изучение общей информации о данных</a></span></li><li><span><a href=\"#Предобработка-данных\" data-toc-modified-id=\"Предобработка-данных-2\"><span class=\"toc-item-num\">2&nbsp;&nbsp;</span>Предобработка данных</a></span><ul class=\"toc-item\"><li><span><a href=\"#Удаление-пропусков\" data-toc-modified-id=\"Удаление-пропусков-2.1\"><span class=\"toc-item-num\">2.1&nbsp;&nbsp;</span>Удаление пропусков</a></span></li><li><span><a href=\"#Обработка-аномальных-значений\" data-toc-modified-id=\"Обработка-аномальных-значений-2.2\"><span class=\"toc-item-num\">2.2&nbsp;&nbsp;</span>Обработка аномальных значений</a></span></li><li><span><a href=\"#Удаление-пропусков-(продолжение)\" data-toc-modified-id=\"Удаление-пропусков-(продолжение)-2.3\"><span class=\"toc-item-num\">2.3&nbsp;&nbsp;</span>Удаление пропусков (продолжение)</a></span></li><li><span><a href=\"#Изменение-типов-данных\" data-toc-modified-id=\"Изменение-типов-данных-2.4\"><span class=\"toc-item-num\">2.4&nbsp;&nbsp;</span>Изменение типов данных</a></span></li><li><span><a href=\"#Обработка-дубликатов\" data-toc-modified-id=\"Обработка-дубликатов-2.5\"><span class=\"toc-item-num\">2.5&nbsp;&nbsp;</span>Обработка дубликатов</a></span></li><li><span><a href=\"#Категоризация-данных\" data-toc-modified-id=\"Категоризация-данных-2.6\"><span class=\"toc-item-num\">2.6&nbsp;&nbsp;</span>Категоризация данных</a></span></li></ul></li><li><span><a href=\"#Исследовательский-анализ\" data-toc-modified-id=\"Исследовательский-анализ-3\"><span class=\"toc-item-num\">3&nbsp;&nbsp;</span>Исследовательский анализ</a></span><ul class=\"toc-item\"><li><span><a href=\"#Зависимость-между-количеством-детей-и-возвратом-кредита-в-срок\" data-toc-modified-id=\"Зависимость-между-количеством-детей-и-возвратом-кредита-в-срок-3.1\"><span class=\"toc-item-num\">3.1&nbsp;&nbsp;</span>Зависимость между количеством детей и возвратом кредита в срок</a></span></li><li><span><a href=\"#Зависимость-между-семейным-положением-и-возвратом-кредита-в-срок\" data-toc-modified-id=\"Зависимость-между-семейным-положением-и-возвратом-кредита-в-срок-3.2\"><span class=\"toc-item-num\">3.2&nbsp;&nbsp;</span>Зависимость между семейным положением и возвратом кредита в срок</a></span></li><li><span><a href=\"#Зависимость-между-уровнем-дохода-и-возвратом-кредита-в-срок\" data-toc-modified-id=\"Зависимость-между-уровнем-дохода-и-возвратом-кредита-в-срок-3.3\"><span class=\"toc-item-num\">3.3&nbsp;&nbsp;</span>Зависимость между уровнем дохода и возвратом кредита в срок</a></span></li><li><span><a href=\"#Влияние-разных-целей-кредита-на-его-возврат-в-срок\" data-toc-modified-id=\"Влияние-разных-целей-кредита-на-его-возврат-в-срок-3.4\"><span class=\"toc-item-num\">3.4&nbsp;&nbsp;</span>Влияние разных целей кредита на его возврат в срок</a></span></li><li><span><a href=\"#Возможные-причины-появления-пропусков-в-исходных-данных\" data-toc-modified-id=\"Возможные-причины-появления-пропусков-в-исходных-данных-3.5\"><span class=\"toc-item-num\">3.5&nbsp;&nbsp;</span>Возможные причины появления пропусков в исходных данных</a></span></li><li><span><a href=\"#Почему-заполнить-пропуски-медианным-значением-—-лучшее-решение-для-количественных-переменных\" data-toc-modified-id=\"Почему-заполнить-пропуски-медианным-значением-—-лучшее-решение-для-количественных-переменных-3.6\"><span class=\"toc-item-num\">3.6&nbsp;&nbsp;</span>Почему заполнить пропуски медианным значением — лучшее решение для количественных переменных</a></span></li></ul></li><li><span><a href=\"#Общий-вывод\" data-toc-modified-id=\"Общий-вывод-4\"><span class=\"toc-item-num\">4&nbsp;&nbsp;</span>Общий вывод</a></span></li></ul></div>"
   ]
  },
  {
   "cell_type": "markdown",
   "id": "2fbe80b7-96d0-484e-b851-6950908f3de1",
   "metadata": {},
   "source": [
    "# Исследование надежности заемщиков"
   ]
  },
  {
   "cell_type": "markdown",
   "id": "442ea0c6-8a96-4ac6-8e61-1fa6bcb215ee",
   "metadata": {},
   "source": [
    "**Описание проекта**\n",
    "\n",
    "Заказчик — кредитный отдел банка. Нужно разобраться, влияет ли семейное положение и количество детей клиента на факт погашения кредита в срок. Входные данные от банка — статистика о платёжеспособности клиентов.\n"
   ]
  },
  {
   "cell_type": "markdown",
   "id": "e1c94d4c",
   "metadata": {},
   "source": [
    "**Цель исследования**: \n",
    "\n",
    "Определить, влияют ли на погашение кредита в срок следующие факторы:\n",
    "\n",
    "* семейное положение клиента;\n",
    "* количество детей у клиента;\n",
    "* уровень дохода клиента;\n",
    "* цель кредита.\n",
    "\n",
    "\n",
    "**Ход исследования**:\n",
    "\n",
    "* Изучение полученных данных.\n",
    "* Предобработка данных.\n",
    "* Проверка гипотез и выводы.\n",
    "* Итоги исследования."
   ]
  },
  {
   "cell_type": "markdown",
   "id": "f4d6457a-a6ea-4cd5-ba6f-595915b4e5ed",
   "metadata": {},
   "source": [
    "## Изучение общей информации о данных"
   ]
  },
  {
   "cell_type": "markdown",
   "id": "f19b16b2-4c95-4f56-b2e2-3cb3604f9f06",
   "metadata": {},
   "source": [
    "Импортируем библиотеку pandas. Считаем данные из csv-файла в датафрейм и сохраним в переменную `data`. "
   ]
  },
  {
   "cell_type": "code",
   "execution_count": 1,
   "id": "9ce333a1-c6f5-4ab6-8a28-81d88de67210",
   "metadata": {},
   "outputs": [],
   "source": [
    "import pandas as pd"
   ]
  },
  {
   "cell_type": "code",
   "execution_count": 2,
   "id": "e73a1485-89cd-4eb3-9954-fb63366085c5",
   "metadata": {},
   "outputs": [],
   "source": [
    "data = pd.read_csv('/projects/creditworthiness.csv')"
   ]
  },
  {
   "cell_type": "markdown",
   "id": "cfcf91f9-9abe-49da-bf76-50e490039eee",
   "metadata": {},
   "source": [
    "Выведем первые 20 строчек датафрейма `data` на экран."
   ]
  },
  {
   "cell_type": "code",
   "execution_count": 3,
   "id": "e1c843a8-4e20-4110-8053-79e616dcfdc5",
   "metadata": {
    "scrolled": false
   },
   "outputs": [
    {
     "data": {
      "text/html": [
       "<div>\n",
       "<style scoped>\n",
       "    .dataframe tbody tr th:only-of-type {\n",
       "        vertical-align: middle;\n",
       "    }\n",
       "\n",
       "    .dataframe tbody tr th {\n",
       "        vertical-align: top;\n",
       "    }\n",
       "\n",
       "    .dataframe thead th {\n",
       "        text-align: right;\n",
       "    }\n",
       "</style>\n",
       "<table border=\"1\" class=\"dataframe\">\n",
       "  <thead>\n",
       "    <tr style=\"text-align: right;\">\n",
       "      <th></th>\n",
       "      <th>children</th>\n",
       "      <th>days_employed</th>\n",
       "      <th>dob_years</th>\n",
       "      <th>education</th>\n",
       "      <th>education_id</th>\n",
       "      <th>family_status</th>\n",
       "      <th>family_status_id</th>\n",
       "      <th>gender</th>\n",
       "      <th>income_type</th>\n",
       "      <th>debt</th>\n",
       "      <th>total_income</th>\n",
       "      <th>purpose</th>\n",
       "    </tr>\n",
       "  </thead>\n",
       "  <tbody>\n",
       "    <tr>\n",
       "      <th>0</th>\n",
       "      <td>1</td>\n",
       "      <td>-8437.673028</td>\n",
       "      <td>42</td>\n",
       "      <td>высшее</td>\n",
       "      <td>0</td>\n",
       "      <td>женат / замужем</td>\n",
       "      <td>0</td>\n",
       "      <td>F</td>\n",
       "      <td>сотрудник</td>\n",
       "      <td>0</td>\n",
       "      <td>253875.639453</td>\n",
       "      <td>покупка жилья</td>\n",
       "    </tr>\n",
       "    <tr>\n",
       "      <th>1</th>\n",
       "      <td>1</td>\n",
       "      <td>-4024.803754</td>\n",
       "      <td>36</td>\n",
       "      <td>среднее</td>\n",
       "      <td>1</td>\n",
       "      <td>женат / замужем</td>\n",
       "      <td>0</td>\n",
       "      <td>F</td>\n",
       "      <td>сотрудник</td>\n",
       "      <td>0</td>\n",
       "      <td>112080.014102</td>\n",
       "      <td>приобретение автомобиля</td>\n",
       "    </tr>\n",
       "    <tr>\n",
       "      <th>2</th>\n",
       "      <td>0</td>\n",
       "      <td>-5623.422610</td>\n",
       "      <td>33</td>\n",
       "      <td>Среднее</td>\n",
       "      <td>1</td>\n",
       "      <td>женат / замужем</td>\n",
       "      <td>0</td>\n",
       "      <td>M</td>\n",
       "      <td>сотрудник</td>\n",
       "      <td>0</td>\n",
       "      <td>145885.952297</td>\n",
       "      <td>покупка жилья</td>\n",
       "    </tr>\n",
       "    <tr>\n",
       "      <th>3</th>\n",
       "      <td>3</td>\n",
       "      <td>-4124.747207</td>\n",
       "      <td>32</td>\n",
       "      <td>среднее</td>\n",
       "      <td>1</td>\n",
       "      <td>женат / замужем</td>\n",
       "      <td>0</td>\n",
       "      <td>M</td>\n",
       "      <td>сотрудник</td>\n",
       "      <td>0</td>\n",
       "      <td>267628.550329</td>\n",
       "      <td>дополнительное образование</td>\n",
       "    </tr>\n",
       "    <tr>\n",
       "      <th>4</th>\n",
       "      <td>0</td>\n",
       "      <td>340266.072047</td>\n",
       "      <td>53</td>\n",
       "      <td>среднее</td>\n",
       "      <td>1</td>\n",
       "      <td>гражданский брак</td>\n",
       "      <td>1</td>\n",
       "      <td>F</td>\n",
       "      <td>пенсионер</td>\n",
       "      <td>0</td>\n",
       "      <td>158616.077870</td>\n",
       "      <td>сыграть свадьбу</td>\n",
       "    </tr>\n",
       "    <tr>\n",
       "      <th>5</th>\n",
       "      <td>0</td>\n",
       "      <td>-926.185831</td>\n",
       "      <td>27</td>\n",
       "      <td>высшее</td>\n",
       "      <td>0</td>\n",
       "      <td>гражданский брак</td>\n",
       "      <td>1</td>\n",
       "      <td>M</td>\n",
       "      <td>компаньон</td>\n",
       "      <td>0</td>\n",
       "      <td>255763.565419</td>\n",
       "      <td>покупка жилья</td>\n",
       "    </tr>\n",
       "    <tr>\n",
       "      <th>6</th>\n",
       "      <td>0</td>\n",
       "      <td>-2879.202052</td>\n",
       "      <td>43</td>\n",
       "      <td>высшее</td>\n",
       "      <td>0</td>\n",
       "      <td>женат / замужем</td>\n",
       "      <td>0</td>\n",
       "      <td>F</td>\n",
       "      <td>компаньон</td>\n",
       "      <td>0</td>\n",
       "      <td>240525.971920</td>\n",
       "      <td>операции с жильем</td>\n",
       "    </tr>\n",
       "    <tr>\n",
       "      <th>7</th>\n",
       "      <td>0</td>\n",
       "      <td>-152.779569</td>\n",
       "      <td>50</td>\n",
       "      <td>СРЕДНЕЕ</td>\n",
       "      <td>1</td>\n",
       "      <td>женат / замужем</td>\n",
       "      <td>0</td>\n",
       "      <td>M</td>\n",
       "      <td>сотрудник</td>\n",
       "      <td>0</td>\n",
       "      <td>135823.934197</td>\n",
       "      <td>образование</td>\n",
       "    </tr>\n",
       "    <tr>\n",
       "      <th>8</th>\n",
       "      <td>2</td>\n",
       "      <td>-6929.865299</td>\n",
       "      <td>35</td>\n",
       "      <td>ВЫСШЕЕ</td>\n",
       "      <td>0</td>\n",
       "      <td>гражданский брак</td>\n",
       "      <td>1</td>\n",
       "      <td>F</td>\n",
       "      <td>сотрудник</td>\n",
       "      <td>0</td>\n",
       "      <td>95856.832424</td>\n",
       "      <td>на проведение свадьбы</td>\n",
       "    </tr>\n",
       "    <tr>\n",
       "      <th>9</th>\n",
       "      <td>0</td>\n",
       "      <td>-2188.756445</td>\n",
       "      <td>41</td>\n",
       "      <td>среднее</td>\n",
       "      <td>1</td>\n",
       "      <td>женат / замужем</td>\n",
       "      <td>0</td>\n",
       "      <td>M</td>\n",
       "      <td>сотрудник</td>\n",
       "      <td>0</td>\n",
       "      <td>144425.938277</td>\n",
       "      <td>покупка жилья для семьи</td>\n",
       "    </tr>\n",
       "    <tr>\n",
       "      <th>10</th>\n",
       "      <td>2</td>\n",
       "      <td>-4171.483647</td>\n",
       "      <td>36</td>\n",
       "      <td>высшее</td>\n",
       "      <td>0</td>\n",
       "      <td>женат / замужем</td>\n",
       "      <td>0</td>\n",
       "      <td>M</td>\n",
       "      <td>компаньон</td>\n",
       "      <td>0</td>\n",
       "      <td>113943.491460</td>\n",
       "      <td>покупка недвижимости</td>\n",
       "    </tr>\n",
       "    <tr>\n",
       "      <th>11</th>\n",
       "      <td>0</td>\n",
       "      <td>-792.701887</td>\n",
       "      <td>40</td>\n",
       "      <td>среднее</td>\n",
       "      <td>1</td>\n",
       "      <td>женат / замужем</td>\n",
       "      <td>0</td>\n",
       "      <td>F</td>\n",
       "      <td>сотрудник</td>\n",
       "      <td>0</td>\n",
       "      <td>77069.234271</td>\n",
       "      <td>покупка коммерческой недвижимости</td>\n",
       "    </tr>\n",
       "    <tr>\n",
       "      <th>12</th>\n",
       "      <td>0</td>\n",
       "      <td>NaN</td>\n",
       "      <td>65</td>\n",
       "      <td>среднее</td>\n",
       "      <td>1</td>\n",
       "      <td>гражданский брак</td>\n",
       "      <td>1</td>\n",
       "      <td>M</td>\n",
       "      <td>пенсионер</td>\n",
       "      <td>0</td>\n",
       "      <td>NaN</td>\n",
       "      <td>сыграть свадьбу</td>\n",
       "    </tr>\n",
       "    <tr>\n",
       "      <th>13</th>\n",
       "      <td>0</td>\n",
       "      <td>-1846.641941</td>\n",
       "      <td>54</td>\n",
       "      <td>неоконченное высшее</td>\n",
       "      <td>2</td>\n",
       "      <td>женат / замужем</td>\n",
       "      <td>0</td>\n",
       "      <td>F</td>\n",
       "      <td>сотрудник</td>\n",
       "      <td>0</td>\n",
       "      <td>130458.228857</td>\n",
       "      <td>приобретение автомобиля</td>\n",
       "    </tr>\n",
       "    <tr>\n",
       "      <th>14</th>\n",
       "      <td>0</td>\n",
       "      <td>-1844.956182</td>\n",
       "      <td>56</td>\n",
       "      <td>высшее</td>\n",
       "      <td>0</td>\n",
       "      <td>гражданский брак</td>\n",
       "      <td>1</td>\n",
       "      <td>F</td>\n",
       "      <td>компаньон</td>\n",
       "      <td>1</td>\n",
       "      <td>165127.911772</td>\n",
       "      <td>покупка жилой недвижимости</td>\n",
       "    </tr>\n",
       "    <tr>\n",
       "      <th>15</th>\n",
       "      <td>1</td>\n",
       "      <td>-972.364419</td>\n",
       "      <td>26</td>\n",
       "      <td>среднее</td>\n",
       "      <td>1</td>\n",
       "      <td>женат / замужем</td>\n",
       "      <td>0</td>\n",
       "      <td>F</td>\n",
       "      <td>сотрудник</td>\n",
       "      <td>0</td>\n",
       "      <td>116820.904450</td>\n",
       "      <td>строительство собственной недвижимости</td>\n",
       "    </tr>\n",
       "    <tr>\n",
       "      <th>16</th>\n",
       "      <td>0</td>\n",
       "      <td>-1719.934226</td>\n",
       "      <td>35</td>\n",
       "      <td>среднее</td>\n",
       "      <td>1</td>\n",
       "      <td>женат / замужем</td>\n",
       "      <td>0</td>\n",
       "      <td>F</td>\n",
       "      <td>сотрудник</td>\n",
       "      <td>0</td>\n",
       "      <td>289202.704229</td>\n",
       "      <td>недвижимость</td>\n",
       "    </tr>\n",
       "    <tr>\n",
       "      <th>17</th>\n",
       "      <td>0</td>\n",
       "      <td>-2369.999720</td>\n",
       "      <td>33</td>\n",
       "      <td>высшее</td>\n",
       "      <td>0</td>\n",
       "      <td>гражданский брак</td>\n",
       "      <td>1</td>\n",
       "      <td>M</td>\n",
       "      <td>сотрудник</td>\n",
       "      <td>0</td>\n",
       "      <td>90410.586745</td>\n",
       "      <td>строительство недвижимости</td>\n",
       "    </tr>\n",
       "    <tr>\n",
       "      <th>18</th>\n",
       "      <td>0</td>\n",
       "      <td>400281.136913</td>\n",
       "      <td>53</td>\n",
       "      <td>среднее</td>\n",
       "      <td>1</td>\n",
       "      <td>вдовец / вдова</td>\n",
       "      <td>2</td>\n",
       "      <td>F</td>\n",
       "      <td>пенсионер</td>\n",
       "      <td>0</td>\n",
       "      <td>56823.777243</td>\n",
       "      <td>на покупку подержанного автомобиля</td>\n",
       "    </tr>\n",
       "    <tr>\n",
       "      <th>19</th>\n",
       "      <td>0</td>\n",
       "      <td>-10038.818549</td>\n",
       "      <td>48</td>\n",
       "      <td>СРЕДНЕЕ</td>\n",
       "      <td>1</td>\n",
       "      <td>в разводе</td>\n",
       "      <td>3</td>\n",
       "      <td>F</td>\n",
       "      <td>сотрудник</td>\n",
       "      <td>0</td>\n",
       "      <td>242831.107982</td>\n",
       "      <td>на покупку своего автомобиля</td>\n",
       "    </tr>\n",
       "  </tbody>\n",
       "</table>\n",
       "</div>"
      ],
      "text/plain": [
       "    children  days_employed  dob_years            education  education_id  \\\n",
       "0          1   -8437.673028         42               высшее             0   \n",
       "1          1   -4024.803754         36              среднее             1   \n",
       "2          0   -5623.422610         33              Среднее             1   \n",
       "3          3   -4124.747207         32              среднее             1   \n",
       "4          0  340266.072047         53              среднее             1   \n",
       "5          0    -926.185831         27               высшее             0   \n",
       "6          0   -2879.202052         43               высшее             0   \n",
       "7          0    -152.779569         50              СРЕДНЕЕ             1   \n",
       "8          2   -6929.865299         35               ВЫСШЕЕ             0   \n",
       "9          0   -2188.756445         41              среднее             1   \n",
       "10         2   -4171.483647         36               высшее             0   \n",
       "11         0    -792.701887         40              среднее             1   \n",
       "12         0            NaN         65              среднее             1   \n",
       "13         0   -1846.641941         54  неоконченное высшее             2   \n",
       "14         0   -1844.956182         56               высшее             0   \n",
       "15         1    -972.364419         26              среднее             1   \n",
       "16         0   -1719.934226         35              среднее             1   \n",
       "17         0   -2369.999720         33               высшее             0   \n",
       "18         0  400281.136913         53              среднее             1   \n",
       "19         0  -10038.818549         48              СРЕДНЕЕ             1   \n",
       "\n",
       "       family_status  family_status_id gender income_type  debt  \\\n",
       "0    женат / замужем                 0      F   сотрудник     0   \n",
       "1    женат / замужем                 0      F   сотрудник     0   \n",
       "2    женат / замужем                 0      M   сотрудник     0   \n",
       "3    женат / замужем                 0      M   сотрудник     0   \n",
       "4   гражданский брак                 1      F   пенсионер     0   \n",
       "5   гражданский брак                 1      M   компаньон     0   \n",
       "6    женат / замужем                 0      F   компаньон     0   \n",
       "7    женат / замужем                 0      M   сотрудник     0   \n",
       "8   гражданский брак                 1      F   сотрудник     0   \n",
       "9    женат / замужем                 0      M   сотрудник     0   \n",
       "10   женат / замужем                 0      M   компаньон     0   \n",
       "11   женат / замужем                 0      F   сотрудник     0   \n",
       "12  гражданский брак                 1      M   пенсионер     0   \n",
       "13   женат / замужем                 0      F   сотрудник     0   \n",
       "14  гражданский брак                 1      F   компаньон     1   \n",
       "15   женат / замужем                 0      F   сотрудник     0   \n",
       "16   женат / замужем                 0      F   сотрудник     0   \n",
       "17  гражданский брак                 1      M   сотрудник     0   \n",
       "18    вдовец / вдова                 2      F   пенсионер     0   \n",
       "19         в разводе                 3      F   сотрудник     0   \n",
       "\n",
       "     total_income                                 purpose  \n",
       "0   253875.639453                           покупка жилья  \n",
       "1   112080.014102                 приобретение автомобиля  \n",
       "2   145885.952297                           покупка жилья  \n",
       "3   267628.550329              дополнительное образование  \n",
       "4   158616.077870                         сыграть свадьбу  \n",
       "5   255763.565419                           покупка жилья  \n",
       "6   240525.971920                       операции с жильем  \n",
       "7   135823.934197                             образование  \n",
       "8    95856.832424                   на проведение свадьбы  \n",
       "9   144425.938277                 покупка жилья для семьи  \n",
       "10  113943.491460                    покупка недвижимости  \n",
       "11   77069.234271       покупка коммерческой недвижимости  \n",
       "12            NaN                         сыграть свадьбу  \n",
       "13  130458.228857                 приобретение автомобиля  \n",
       "14  165127.911772              покупка жилой недвижимости  \n",
       "15  116820.904450  строительство собственной недвижимости  \n",
       "16  289202.704229                            недвижимость  \n",
       "17   90410.586745              строительство недвижимости  \n",
       "18   56823.777243      на покупку подержанного автомобиля  \n",
       "19  242831.107982            на покупку своего автомобиля  "
      ]
     },
     "metadata": {},
     "output_type": "display_data"
    }
   ],
   "source": [
    "display(data.head(20))"
   ]
  },
  {
   "cell_type": "markdown",
   "id": "0f698f25-3ba9-43a1-9529-142ff88eced2",
   "metadata": {},
   "source": [
    "Просмотрев 20 строк уже можно сделать несколько замечаний по таблице:\n",
    "* в столбце days_employed есть отрицательные значения;\n",
    "* в столбце education информация написана в разном формате(встречаются как прописное, так и строчное написание слов).Необходимо привести к единому формату;\n",
    "* в столбце total_income есть пропущенные значения."
   ]
  },
  {
   "cell_type": "markdown",
   "id": "fc3ddfd6-f136-4839-898b-a9672e987af0",
   "metadata": {},
   "source": [
    "Выведем основную информацию о датафрейме с помощью метода `info()`."
   ]
  },
  {
   "cell_type": "code",
   "execution_count": 4,
   "id": "e4b8a3c8-8cdc-401b-8677-94c1e5b00fb9",
   "metadata": {
    "scrolled": true
   },
   "outputs": [
    {
     "name": "stdout",
     "output_type": "stream",
     "text": [
      "<class 'pandas.core.frame.DataFrame'>\n",
      "RangeIndex: 21525 entries, 0 to 21524\n",
      "Data columns (total 12 columns):\n",
      " #   Column            Non-Null Count  Dtype  \n",
      "---  ------            --------------  -----  \n",
      " 0   children          21525 non-null  int64  \n",
      " 1   days_employed     19351 non-null  float64\n",
      " 2   dob_years         21525 non-null  int64  \n",
      " 3   education         21525 non-null  object \n",
      " 4   education_id      21525 non-null  int64  \n",
      " 5   family_status     21525 non-null  object \n",
      " 6   family_status_id  21525 non-null  int64  \n",
      " 7   gender            21525 non-null  object \n",
      " 8   income_type       21525 non-null  object \n",
      " 9   debt              21525 non-null  int64  \n",
      " 10  total_income      19351 non-null  float64\n",
      " 11  purpose           21525 non-null  object \n",
      "dtypes: float64(2), int64(5), object(5)\n",
      "memory usage: 2.0+ MB\n"
     ]
    }
   ],
   "source": [
    "data.info()"
   ]
  },
  {
   "cell_type": "markdown",
   "id": "3011216a-7e75-4c71-89d7-4dd5697ea80e",
   "metadata": {},
   "source": [
    "В столбцах days_employed и total_income есть пропуски."
   ]
  },
  {
   "cell_type": "markdown",
   "id": "bf424afd-3efd-4d13-a631-5093a0bd4506",
   "metadata": {},
   "source": [
    "## Предобработка данных"
   ]
  },
  {
   "cell_type": "markdown",
   "id": "5a664972-1927-4f03-ad74-3bfa68c529fa",
   "metadata": {},
   "source": [
    "### Удаление пропусков"
   ]
  },
  {
   "cell_type": "markdown",
   "id": "ec17a842-094f-46c9-bdc9-a62ac3da1710",
   "metadata": {},
   "source": [
    "Выведем количество пропущенных значений для каждого столбца. Используем комбинацию двух методов."
   ]
  },
  {
   "cell_type": "code",
   "execution_count": 5,
   "id": "363faf0a-11c6-40c2-9195-947ccb41d40e",
   "metadata": {},
   "outputs": [
    {
     "data": {
      "text/plain": [
       "children               0\n",
       "days_employed       2174\n",
       "dob_years              0\n",
       "education              0\n",
       "education_id           0\n",
       "family_status          0\n",
       "family_status_id       0\n",
       "gender                 0\n",
       "income_type            0\n",
       "debt                   0\n",
       "total_income        2174\n",
       "purpose                0\n",
       "dtype: int64"
      ]
     },
     "execution_count": 5,
     "metadata": {},
     "output_type": "execute_result"
    }
   ],
   "source": [
    "data.isnull().sum()"
   ]
  },
  {
   "cell_type": "markdown",
   "id": "8a38f353-773c-4ed8-9ea8-47b6a357bcf0",
   "metadata": {},
   "source": [
    "В двух столбцах есть пропущенные значения. Один из них — `days_employed`. Пропуски в этом столбце обработаем на следующем этапе. Другой столбец с пропущенными значениями — `total_income` — хранит данные о доходах. На сумму дохода сильнее всего влияет тип занятости, поэтому заполнить пропуски в этом столбце нужно медианным значением по каждому типу из столбца `income_type`. Например, у человека с типом занятости `сотрудник` пропуск в столбце `total_income` должен быть заполнен медианным доходом среди всех записей с тем же типом."
   ]
  },
  {
   "cell_type": "code",
   "execution_count": 6,
   "id": "24f78250-0787-4cfc-8aaa-02b098248c19",
   "metadata": {},
   "outputs": [],
   "source": [
    "for d in data['income_type'].unique():\n",
    "    data.loc[(data['income_type'] == d) & (data['total_income'].isna()),\\\n",
    "    'total_income'] = data.loc[(data['income_type'] == d), 'total_income'].median()\n",
    "  "
   ]
  },
  {
   "cell_type": "markdown",
   "id": "5f1169c8-b80e-4e70-a66a-8e548d3986bf",
   "metadata": {},
   "source": [
    "### Обработка аномальных значений"
   ]
  },
  {
   "cell_type": "markdown",
   "id": "c14765ff-dfec-463e-8d0a-4b1f8adfdf97",
   "metadata": {},
   "source": [
    "В данных могут встречаться артефакты (аномалии) — значения, которые не отражают действительность и появились по какой-то ошибке. Таким артефактом будет отрицательное количество дней трудового стажа в столбце `days_employed`. Для реальных данных это нормально. Обработаем значения в этом столбце: заменим все отрицательные значения положительными с помощью метода `abs()`."
   ]
  },
  {
   "cell_type": "code",
   "execution_count": 7,
   "id": "af016758-21ad-494e-bbbf-71dab39b7f93",
   "metadata": {},
   "outputs": [],
   "source": [
    "data['days_employed'] = data['days_employed'].abs()"
   ]
  },
  {
   "cell_type": "markdown",
   "id": "651b7158-be33-405a-8b5f-f388e4f401d7",
   "metadata": {},
   "source": [
    "Для каждого типа занятости выведем медианное значение трудового стажа `days_employed` в днях."
   ]
  },
  {
   "cell_type": "code",
   "execution_count": 8,
   "id": "55f1fe12-4fd9-487b-9aa2-c96b61ae6c0f",
   "metadata": {},
   "outputs": [
    {
     "data": {
      "text/plain": [
       "income_type\n",
       "безработный        366413.652744\n",
       "в декрете            3296.759962\n",
       "госслужащий          2689.368353\n",
       "компаньон            1547.382223\n",
       "пенсионер          365213.306266\n",
       "предприниматель       520.848083\n",
       "сотрудник            1574.202821\n",
       "студент               578.751554\n",
       "Name: days_employed, dtype: float64"
      ]
     },
     "execution_count": 8,
     "metadata": {},
     "output_type": "execute_result"
    }
   ],
   "source": [
    "data.groupby('income_type')['days_employed'].median()"
   ]
  },
  {
   "cell_type": "markdown",
   "id": "e51376c1-ebae-4ec2-bd1e-ca6f15b6c95b",
   "metadata": {},
   "source": [
    "У двух типов (безработные и пенсионеры) получатся аномально большие значения. Исправить такие значения сложно, поэтому оставим их как есть."
   ]
  },
  {
   "cell_type": "markdown",
   "id": "24ee5207-7369-4518-8b05-2d706d9a7e4d",
   "metadata": {},
   "source": [
    "Выведем перечень уникальных значений столбца `children`."
   ]
  },
  {
   "cell_type": "code",
   "execution_count": 9,
   "id": "689c0fcf-96c7-47a7-8e2f-e7a9154dea74",
   "metadata": {},
   "outputs": [
    {
     "data": {
      "text/plain": [
       "array([ 1,  0,  3,  2, -1,  4, 20,  5], dtype=int64)"
      ]
     },
     "metadata": {},
     "output_type": "display_data"
    }
   ],
   "source": [
    "display(data['children'].unique())"
   ]
  },
  {
   "cell_type": "markdown",
   "id": "74074e58-f7f3-4375-a591-0ccffdf3b764",
   "metadata": {},
   "source": [
    "В столбце `children` есть два аномальных значения. Удалим строки, в которых встречаются такие аномальные значения из датафрейма `data`."
   ]
  },
  {
   "cell_type": "code",
   "execution_count": 10,
   "id": "804cc38c-e22f-47ec-8b5b-22cb7ea10380",
   "metadata": {},
   "outputs": [],
   "source": [
    "data = data[(data['children'] != -1) & (data['children'] != 20)]"
   ]
  },
  {
   "cell_type": "markdown",
   "id": "5d02eb2f-510f-4c36-b6d4-f7dfdaac20af",
   "metadata": {},
   "source": [
    "Ещё раз выведем перечень уникальных значений столбца `children`, чтобы убедиться, что артефакты удалены."
   ]
  },
  {
   "cell_type": "code",
   "execution_count": 11,
   "id": "be9cd930-bb3f-4c4d-b4ef-4270b9d396c6",
   "metadata": {},
   "outputs": [
    {
     "data": {
      "text/plain": [
       "array([1, 0, 3, 2, 4, 5], dtype=int64)"
      ]
     },
     "metadata": {},
     "output_type": "display_data"
    }
   ],
   "source": [
    "display(data['children'].unique())"
   ]
  },
  {
   "cell_type": "markdown",
   "id": "3f40a96f-530a-497e-b9e1-713571fd82a8",
   "metadata": {},
   "source": [
    "### Удаление пропусков (продолжение)"
   ]
  },
  {
   "cell_type": "markdown",
   "id": "b878b6c5-8645-4d76-8212-c11fb50b48f9",
   "metadata": {},
   "source": [
    "Заполним пропуски в столбце `days_employed` медианными значениями по каждому типу занятости `income_type`."
   ]
  },
  {
   "cell_type": "code",
   "execution_count": 12,
   "id": "d7262be9-5b98-404c-88ff-2b10eb4f57c7",
   "metadata": {},
   "outputs": [],
   "source": [
    "for d in data['income_type'].unique():\n",
    "    data.loc[(data['income_type'] == d) & (data['days_employed'].isna()), 'days_employed'] = data.loc[(data['income_type'] == d),\\\n",
    "    'days_employed'].median()"
   ]
  },
  {
   "cell_type": "markdown",
   "id": "fe138ce6-99b4-42f9-97ef-a26f368f21cb",
   "metadata": {},
   "source": [
    "Убедимся, что все пропуски заполнены. Проверим себя и ещё раз выведите количество пропущенных значений для каждого столбца с помощью двух методов."
   ]
  },
  {
   "cell_type": "code",
   "execution_count": 13,
   "id": "8fc353a7-a24e-4da2-975f-3392906e6c91",
   "metadata": {},
   "outputs": [
    {
     "data": {
      "text/plain": [
       "children            0\n",
       "days_employed       0\n",
       "dob_years           0\n",
       "education           0\n",
       "education_id        0\n",
       "family_status       0\n",
       "family_status_id    0\n",
       "gender              0\n",
       "income_type         0\n",
       "debt                0\n",
       "total_income        0\n",
       "purpose             0\n",
       "dtype: int64"
      ]
     },
     "execution_count": 13,
     "metadata": {},
     "output_type": "execute_result"
    }
   ],
   "source": [
    "data.isnull().sum()"
   ]
  },
  {
   "cell_type": "markdown",
   "id": "05cb5b65-f266-43e1-b0b7-8df7597b9a97",
   "metadata": {},
   "source": [
    "### Изменение типов данных"
   ]
  },
  {
   "cell_type": "markdown",
   "id": "d30c930d-b60a-4ead-a5d3-b6589cfd1496",
   "metadata": {},
   "source": [
    "Заменим вещественный тип данных в столбце `total_income` на целочисленный с помощью метода `astype()`."
   ]
  },
  {
   "cell_type": "code",
   "execution_count": 14,
   "id": "dffd0621-06e8-4021-ad1b-ef65cebcd251",
   "metadata": {},
   "outputs": [],
   "source": [
    "data['total_income'] = data['total_income'].astype('int')"
   ]
  },
  {
   "cell_type": "markdown",
   "id": "71322778-dded-4bf4-b4c9-0c3c2755abcb",
   "metadata": {},
   "source": [
    "### Обработка дубликатов"
   ]
  },
  {
   "cell_type": "markdown",
   "id": "e29f4b99-344f-42de-bd53-2748c60e7838",
   "metadata": {},
   "source": [
    "Обработаем неявные дубликаты в столбце `education`. В этом столбце есть одни и те же значения, но записанные по-разному: с использованием заглавных и строчных букв. Приведем их к нижнему регистру."
   ]
  },
  {
   "cell_type": "code",
   "execution_count": 15,
   "id": "487e4bbc-7b7e-424d-973f-4ae1686147b9",
   "metadata": {},
   "outputs": [],
   "source": [
    "data['education'] = data['education'].str.lower()"
   ]
  },
  {
   "cell_type": "markdown",
   "id": "da5d471a-2fb9-4740-806a-f87655c09fc5",
   "metadata": {},
   "source": [
    "Выведем на экран количество строк-дубликатов в данных. Если такие строки присутствуют, удалим их."
   ]
  },
  {
   "cell_type": "code",
   "execution_count": 16,
   "id": "e0e5dcf7-2e3f-455a-8692-1b23dc0b16c1",
   "metadata": {},
   "outputs": [
    {
     "data": {
      "text/plain": [
       "71"
      ]
     },
     "metadata": {},
     "output_type": "display_data"
    }
   ],
   "source": [
    "display(data.duplicated().sum())"
   ]
  },
  {
   "cell_type": "code",
   "execution_count": 17,
   "id": "cfe63349-9ae6-487c-bf18-ee651ab3733d",
   "metadata": {},
   "outputs": [],
   "source": [
    "data = data.drop_duplicates(keep = 'first')"
   ]
  },
  {
   "cell_type": "markdown",
   "id": "aedb312e-5ef9-46d6-b614-fa104f810e59",
   "metadata": {},
   "source": [
    "### Категоризация данных"
   ]
  },
  {
   "cell_type": "markdown",
   "id": "637f8264-6344-4009-8402-a4214b3f97f5",
   "metadata": {},
   "source": [
    "На основании диапазонов, указанных ниже, создадим в датафрейме `data` столбец `total_income_category` с категориями:**\n",
    "\n",
    "- 0–30000 — `'E'`;\n",
    "- 30001–50000 — `'D'`;\n",
    "- 50001–200000 — `'C'`;\n",
    "- 200001–1000000 — `'B'`;\n",
    "- 1000001 и выше — `'A'`.\n",
    "\n",
    "\n",
    "**Например, кредитополучателю с доходом 25000 нужно назначить категорию `'E'`, а клиенту, получающему 235000, — `'B'`. Используем собственную функцию с именем `categorize_income()` и метод `apply()`."
   ]
  },
  {
   "cell_type": "code",
   "execution_count": 18,
   "id": "1ae48241-5db9-4c6f-ba88-fe9be9f6010e",
   "metadata": {},
   "outputs": [],
   "source": [
    "def categorize_income(row):\n",
    "    total_income = row['total_income']\n",
    "    if total_income <= 30000:\n",
    "        return 'E'\n",
    "    if 30001 <= total_income <= 50000:\n",
    "        return 'D'\n",
    "    if 50001 <= total_income <= 200000:\n",
    "        return 'C'\n",
    "    if 200001 <= total_income <= 1000000:\n",
    "        return 'B'\n",
    "    if total_income >= 1000001:\n",
    "        return 'A'"
   ]
  },
  {
   "cell_type": "code",
   "execution_count": 19,
   "id": "b21d9c37-7f94-4f7f-8b2b-09773ce4e161",
   "metadata": {},
   "outputs": [],
   "source": [
    "data['total_income_category'] = data.apply(categorize_income, axis = 1)"
   ]
  },
  {
   "cell_type": "markdown",
   "id": "095276af-a5b7-4924-9770-b246419f1ce0",
   "metadata": {},
   "source": [
    "Выведем на экран перечень уникальных целей взятия кредита из столбца `purpose`."
   ]
  },
  {
   "cell_type": "code",
   "execution_count": 20,
   "id": "985daf66-8208-469d-8718-adcdfe85da67",
   "metadata": {},
   "outputs": [
    {
     "data": {
      "text/plain": [
       "array(['покупка жилья', 'приобретение автомобиля',\n",
       "       'дополнительное образование', 'сыграть свадьбу',\n",
       "       'операции с жильем', 'образование', 'на проведение свадьбы',\n",
       "       'покупка жилья для семьи', 'покупка недвижимости',\n",
       "       'покупка коммерческой недвижимости', 'покупка жилой недвижимости',\n",
       "       'строительство собственной недвижимости', 'недвижимость',\n",
       "       'строительство недвижимости', 'на покупку подержанного автомобиля',\n",
       "       'на покупку своего автомобиля',\n",
       "       'операции с коммерческой недвижимостью',\n",
       "       'строительство жилой недвижимости', 'жилье',\n",
       "       'операции со своей недвижимостью', 'автомобили',\n",
       "       'заняться образованием', 'сделка с подержанным автомобилем',\n",
       "       'получение образования', 'автомобиль', 'свадьба',\n",
       "       'получение дополнительного образования', 'покупка своего жилья',\n",
       "       'операции с недвижимостью', 'получение высшего образования',\n",
       "       'свой автомобиль', 'сделка с автомобилем',\n",
       "       'профильное образование', 'высшее образование',\n",
       "       'покупка жилья для сдачи', 'на покупку автомобиля', 'ремонт жилью',\n",
       "       'заняться высшим образованием'], dtype=object)"
      ]
     },
     "metadata": {},
     "output_type": "display_data"
    }
   ],
   "source": [
    "display(data['purpose'].unique())"
   ]
  },
  {
   "cell_type": "markdown",
   "id": "2e0a0ba9-a798-45ab-8153-c78de6bb8ab0",
   "metadata": {},
   "source": [
    "Создадим функцию, которая на основании данных из столбца `purpose` сформирует новый столбец `purpose_category`, в который войдут следующие категории:**\n",
    "\n",
    "- `'операции с автомобилем'`,\n",
    "- `'операции с недвижимостью'`,\n",
    "- `'проведение свадьбы'`,\n",
    "- `'получение образования'`.\n",
    "\n",
    "**Например, если в столбце `purpose` находится подстрока `'на покупку автомобиля'`, то в столбце `purpose_category` должна появиться строка `'операции с автомобилем'`.**\n",
    "\n",
    "**Используем собственную функцию с именем `categorize_purpose()` и метод `apply()`. Изучим данные в столбце `purpose` и определим, какие подстроки помогут правильно определить категорию."
   ]
  },
  {
   "cell_type": "code",
   "execution_count": 21,
   "id": "dc5e3de9-b452-48b4-8e3d-f86cf5c26b45",
   "metadata": {},
   "outputs": [],
   "source": [
    "def categorize_purpose(row):\n",
    "    purpose = row['purpose']\n",
    "    if 'образов' in purpose:\n",
    "        return 'получение образования'\n",
    "    if 'свад' in purpose:\n",
    "        return 'проведение свадьбы' \n",
    "    if 'автомоб' in purpose:\n",
    "        return 'операции с автомобилем'\n",
    "    return 'операции с недвижимостью'"
   ]
  },
  {
   "cell_type": "code",
   "execution_count": 22,
   "id": "937f20d1-2889-44e8-aba2-d7a190dd83c7",
   "metadata": {},
   "outputs": [],
   "source": [
    "data['purpose_category'] = data.apply(categorize_purpose, axis = 1) "
   ]
  },
  {
   "cell_type": "code",
   "execution_count": 23,
   "id": "aa8c6d1b-7f2d-43db-b588-49b244b9c376",
   "metadata": {},
   "outputs": [
    {
     "data": {
      "text/html": [
       "<div>\n",
       "<style scoped>\n",
       "    .dataframe tbody tr th:only-of-type {\n",
       "        vertical-align: middle;\n",
       "    }\n",
       "\n",
       "    .dataframe tbody tr th {\n",
       "        vertical-align: top;\n",
       "    }\n",
       "\n",
       "    .dataframe thead th {\n",
       "        text-align: right;\n",
       "    }\n",
       "</style>\n",
       "<table border=\"1\" class=\"dataframe\">\n",
       "  <thead>\n",
       "    <tr style=\"text-align: right;\">\n",
       "      <th></th>\n",
       "      <th>children</th>\n",
       "      <th>days_employed</th>\n",
       "      <th>dob_years</th>\n",
       "      <th>education</th>\n",
       "      <th>education_id</th>\n",
       "      <th>family_status</th>\n",
       "      <th>family_status_id</th>\n",
       "      <th>gender</th>\n",
       "      <th>income_type</th>\n",
       "      <th>debt</th>\n",
       "      <th>total_income</th>\n",
       "      <th>purpose</th>\n",
       "      <th>total_income_category</th>\n",
       "      <th>purpose_category</th>\n",
       "    </tr>\n",
       "  </thead>\n",
       "  <tbody>\n",
       "    <tr>\n",
       "      <th>0</th>\n",
       "      <td>1</td>\n",
       "      <td>8437.673028</td>\n",
       "      <td>42</td>\n",
       "      <td>высшее</td>\n",
       "      <td>0</td>\n",
       "      <td>женат / замужем</td>\n",
       "      <td>0</td>\n",
       "      <td>F</td>\n",
       "      <td>сотрудник</td>\n",
       "      <td>0</td>\n",
       "      <td>253875</td>\n",
       "      <td>покупка жилья</td>\n",
       "      <td>B</td>\n",
       "      <td>операции с недвижимостью</td>\n",
       "    </tr>\n",
       "    <tr>\n",
       "      <th>1</th>\n",
       "      <td>1</td>\n",
       "      <td>4024.803754</td>\n",
       "      <td>36</td>\n",
       "      <td>среднее</td>\n",
       "      <td>1</td>\n",
       "      <td>женат / замужем</td>\n",
       "      <td>0</td>\n",
       "      <td>F</td>\n",
       "      <td>сотрудник</td>\n",
       "      <td>0</td>\n",
       "      <td>112080</td>\n",
       "      <td>приобретение автомобиля</td>\n",
       "      <td>C</td>\n",
       "      <td>операции с автомобилем</td>\n",
       "    </tr>\n",
       "    <tr>\n",
       "      <th>2</th>\n",
       "      <td>0</td>\n",
       "      <td>5623.422610</td>\n",
       "      <td>33</td>\n",
       "      <td>среднее</td>\n",
       "      <td>1</td>\n",
       "      <td>женат / замужем</td>\n",
       "      <td>0</td>\n",
       "      <td>M</td>\n",
       "      <td>сотрудник</td>\n",
       "      <td>0</td>\n",
       "      <td>145885</td>\n",
       "      <td>покупка жилья</td>\n",
       "      <td>C</td>\n",
       "      <td>операции с недвижимостью</td>\n",
       "    </tr>\n",
       "    <tr>\n",
       "      <th>3</th>\n",
       "      <td>3</td>\n",
       "      <td>4124.747207</td>\n",
       "      <td>32</td>\n",
       "      <td>среднее</td>\n",
       "      <td>1</td>\n",
       "      <td>женат / замужем</td>\n",
       "      <td>0</td>\n",
       "      <td>M</td>\n",
       "      <td>сотрудник</td>\n",
       "      <td>0</td>\n",
       "      <td>267628</td>\n",
       "      <td>дополнительное образование</td>\n",
       "      <td>B</td>\n",
       "      <td>получение образования</td>\n",
       "    </tr>\n",
       "    <tr>\n",
       "      <th>4</th>\n",
       "      <td>0</td>\n",
       "      <td>340266.072047</td>\n",
       "      <td>53</td>\n",
       "      <td>среднее</td>\n",
       "      <td>1</td>\n",
       "      <td>гражданский брак</td>\n",
       "      <td>1</td>\n",
       "      <td>F</td>\n",
       "      <td>пенсионер</td>\n",
       "      <td>0</td>\n",
       "      <td>158616</td>\n",
       "      <td>сыграть свадьбу</td>\n",
       "      <td>C</td>\n",
       "      <td>проведение свадьбы</td>\n",
       "    </tr>\n",
       "  </tbody>\n",
       "</table>\n",
       "</div>"
      ],
      "text/plain": [
       "   children  days_employed  dob_years education  education_id  \\\n",
       "0         1    8437.673028         42    высшее             0   \n",
       "1         1    4024.803754         36   среднее             1   \n",
       "2         0    5623.422610         33   среднее             1   \n",
       "3         3    4124.747207         32   среднее             1   \n",
       "4         0  340266.072047         53   среднее             1   \n",
       "\n",
       "      family_status  family_status_id gender income_type  debt  total_income  \\\n",
       "0   женат / замужем                 0      F   сотрудник     0        253875   \n",
       "1   женат / замужем                 0      F   сотрудник     0        112080   \n",
       "2   женат / замужем                 0      M   сотрудник     0        145885   \n",
       "3   женат / замужем                 0      M   сотрудник     0        267628   \n",
       "4  гражданский брак                 1      F   пенсионер     0        158616   \n",
       "\n",
       "                      purpose total_income_category          purpose_category  \n",
       "0               покупка жилья                     B  операции с недвижимостью  \n",
       "1     приобретение автомобиля                     C    операции с автомобилем  \n",
       "2               покупка жилья                     C  операции с недвижимостью  \n",
       "3  дополнительное образование                     B     получение образования  \n",
       "4             сыграть свадьбу                     C        проведение свадьбы  "
      ]
     },
     "metadata": {},
     "output_type": "display_data"
    }
   ],
   "source": [
    "display(data.head())"
   ]
  },
  {
   "cell_type": "markdown",
   "id": "46b5c656-ebce-487b-abb6-1189b71e3813",
   "metadata": {},
   "source": [
    "## Исследовательский анализ"
   ]
  },
  {
   "cell_type": "markdown",
   "id": "a7e01d01-9a4e-44ad-9da3-22eb312a2799",
   "metadata": {},
   "source": [
    "### Зависимость между количеством детей и возвратом кредита в срок"
   ]
  },
  {
   "cell_type": "markdown",
   "id": "3b339b87-e022-4834-871a-1980c48c53d3",
   "metadata": {},
   "source": [
    "Создадим датафрейм."
   ]
  },
  {
   "cell_type": "code",
   "execution_count": 24,
   "id": "34444a98-cedf-4510-b67f-204b3a237a1c",
   "metadata": {},
   "outputs": [],
   "source": [
    "relat_child_debt = pd.DataFrame()"
   ]
  },
  {
   "cell_type": "markdown",
   "id": "e3715d34-7674-4586-a318-428e36259357",
   "metadata": {},
   "source": [
    "Создадим новый столбец group_child_count в таблице relat_child_debt. В данном столбце будет отображатся общее количество людей в каждой группе(относительно количества детей)."
   ]
  },
  {
   "cell_type": "code",
   "execution_count": 25,
   "id": "f9301dd8-4948-4f63-96b7-0ee0842e01e7",
   "metadata": {},
   "outputs": [],
   "source": [
    "relat_child_debt['group_child_count'] = data.groupby('children')['debt'].count() "
   ]
  },
  {
   "cell_type": "markdown",
   "id": "097e2c1b-25b7-4c95-ba4c-9459506842c6",
   "metadata": {},
   "source": [
    "Создадим новый столбец debtors_count в таблице relat_child_debt. В данном столбце будет отображатся количество задолжников в каждой группе."
   ]
  },
  {
   "cell_type": "code",
   "execution_count": 26,
   "id": "dec078f4-55db-477e-9376-813048e2056b",
   "metadata": {},
   "outputs": [],
   "source": [
    "relat_child_debt['debtors_count'] = data.groupby('children')['debt'].sum()"
   ]
  },
  {
   "cell_type": "markdown",
   "id": "e71f7804-d629-45f9-8763-a39da8440f42",
   "metadata": {},
   "source": [
    "Создадим новый столбец share_debtors в таблице relat_child_debt. В данном столбце будет отображатся доля задолжников от общего количества людей в каждой группе."
   ]
  },
  {
   "cell_type": "code",
   "execution_count": 27,
   "id": "c47fbce7-d5c1-481c-83a4-27ea1950ada9",
   "metadata": {},
   "outputs": [],
   "source": [
    "relat_child_debt['share_debtors'] = relat_child_debt['debtors_count'] / relat_child_debt['group_child_count']"
   ]
  },
  {
   "cell_type": "markdown",
   "id": "ec5a6f26-7189-4c38-9bab-140545f4508a",
   "metadata": {},
   "source": [
    "Выведем на экран таблицу relat_child_debt, сортировав данные по количеству детей (в порядке возрастания).  "
   ]
  },
  {
   "cell_type": "code",
   "execution_count": 28,
   "id": "34406159-24fb-4f39-b3a1-2198ecdc6856",
   "metadata": {},
   "outputs": [
    {
     "data": {
      "text/html": [
       "<div>\n",
       "<style scoped>\n",
       "    .dataframe tbody tr th:only-of-type {\n",
       "        vertical-align: middle;\n",
       "    }\n",
       "\n",
       "    .dataframe tbody tr th {\n",
       "        vertical-align: top;\n",
       "    }\n",
       "\n",
       "    .dataframe thead th {\n",
       "        text-align: right;\n",
       "    }\n",
       "</style>\n",
       "<table border=\"1\" class=\"dataframe\">\n",
       "  <thead>\n",
       "    <tr style=\"text-align: right;\">\n",
       "      <th></th>\n",
       "      <th>group_child_count</th>\n",
       "      <th>debtors_count</th>\n",
       "      <th>share_debtors</th>\n",
       "    </tr>\n",
       "    <tr>\n",
       "      <th>children</th>\n",
       "      <th></th>\n",
       "      <th></th>\n",
       "      <th></th>\n",
       "    </tr>\n",
       "  </thead>\n",
       "  <tbody>\n",
       "    <tr>\n",
       "      <th>0</th>\n",
       "      <td>14091</td>\n",
       "      <td>1063</td>\n",
       "      <td>0.075438</td>\n",
       "    </tr>\n",
       "    <tr>\n",
       "      <th>1</th>\n",
       "      <td>4808</td>\n",
       "      <td>444</td>\n",
       "      <td>0.092346</td>\n",
       "    </tr>\n",
       "    <tr>\n",
       "      <th>2</th>\n",
       "      <td>2052</td>\n",
       "      <td>194</td>\n",
       "      <td>0.094542</td>\n",
       "    </tr>\n",
       "    <tr>\n",
       "      <th>3</th>\n",
       "      <td>330</td>\n",
       "      <td>27</td>\n",
       "      <td>0.081818</td>\n",
       "    </tr>\n",
       "    <tr>\n",
       "      <th>4</th>\n",
       "      <td>41</td>\n",
       "      <td>4</td>\n",
       "      <td>0.097561</td>\n",
       "    </tr>\n",
       "    <tr>\n",
       "      <th>5</th>\n",
       "      <td>9</td>\n",
       "      <td>0</td>\n",
       "      <td>0.000000</td>\n",
       "    </tr>\n",
       "  </tbody>\n",
       "</table>\n",
       "</div>"
      ],
      "text/plain": [
       "          group_child_count  debtors_count  share_debtors\n",
       "children                                                 \n",
       "0                     14091           1063       0.075438\n",
       "1                      4808            444       0.092346\n",
       "2                      2052            194       0.094542\n",
       "3                       330             27       0.081818\n",
       "4                        41              4       0.097561\n",
       "5                         9              0       0.000000"
      ]
     },
     "metadata": {},
     "output_type": "display_data"
    }
   ],
   "source": [
    "display(relat_child_debt.sort_values(by = 'children',ascending = True))"
   ]
  },
  {
   "cell_type": "markdown",
   "id": "7f65613c-23ac-4eed-8f90-78d0268045ed",
   "metadata": {},
   "source": [
    "**Вывод:**  Исходя из таблицы relat_child_debt можно сделать вывод, что количество детей влияет на возврат кредита в срок. Люди, у которых нет детей реже имеют задолженности по кредитам, чем люди с детьми. С увеличением количества детей растет и доля задолженности по кредитам. Однако люди с пятью детьми вообще не имеют проблем с возвратом кредитов в срок. Я думаю, что такая ситуация возникла из-за неравномерной выборки. Если бы общее количество людей в каждой группе было одинаковым, то выводы были бы точнее."
   ]
  },
  {
   "cell_type": "markdown",
   "id": "3e5117ae-e580-475c-884e-2e18ee3c779a",
   "metadata": {},
   "source": [
    "### Зависимость между семейным положением и возвратом кредита в срок"
   ]
  },
  {
   "cell_type": "markdown",
   "id": "d061d87f-68dd-42b1-84bb-ceb808c8f0a6",
   "metadata": {},
   "source": [
    "Создадим датафрейм"
   ]
  },
  {
   "cell_type": "code",
   "execution_count": 29,
   "id": "d680bc5e-9086-41be-93f7-aa17f3de2d8b",
   "metadata": {},
   "outputs": [],
   "source": [
    "relat_family_debt = pd.DataFrame()"
   ]
  },
  {
   "cell_type": "markdown",
   "id": "b5b94edb-1900-4fe3-b541-394140bfa5d3",
   "metadata": {},
   "source": [
    "Создадим новый столбец group_family_count в таблице relat_family_debt. В данном столбце будет отображатся общее количество людей в каждой группе."
   ]
  },
  {
   "cell_type": "code",
   "execution_count": 30,
   "id": "71c2fdc9-ad2e-4210-955b-d44fa477c0dd",
   "metadata": {},
   "outputs": [],
   "source": [
    "relat_family_debt['group_family_count'] = data.groupby('family_status')['debt'].count() "
   ]
  },
  {
   "cell_type": "markdown",
   "id": "4b732406-c22f-4480-9d0e-6d9395acac45",
   "metadata": {},
   "source": [
    "Создадим новый столбец debtors_count в таблице relat_family_debt. В данном столбце будет отображатся количество задолжников в каждой группе."
   ]
  },
  {
   "cell_type": "code",
   "execution_count": 31,
   "id": "12d8cc64-03d4-493f-895d-8ad56fac1c3d",
   "metadata": {},
   "outputs": [],
   "source": [
    "relat_family_debt['debtors_count'] = data.groupby('family_status')['debt'].sum()"
   ]
  },
  {
   "cell_type": "markdown",
   "id": "91eac58a-167c-438d-9533-8fbb7d0b1531",
   "metadata": {},
   "source": [
    "Создадим новый столбец share_debtors в таблице relat_family_debt. В данном столбце будет отображатся доля задолжников от общего количества людей в каждой группе."
   ]
  },
  {
   "cell_type": "code",
   "execution_count": 32,
   "id": "dda540be-bc55-45bc-93b5-ef748ec891dd",
   "metadata": {},
   "outputs": [],
   "source": [
    "relat_family_debt['share_debtors'] = relat_family_debt['debtors_count'] / relat_family_debt['group_family_count']"
   ]
  },
  {
   "cell_type": "markdown",
   "id": "6cb163a4-c771-4724-a258-4f50fdec50fc",
   "metadata": {},
   "source": [
    "Выведем на экран таблицу relat_family_debt, сортировав данные по доле задолжников (в порядке возрастания)."
   ]
  },
  {
   "cell_type": "code",
   "execution_count": 33,
   "id": "4a4ec1e5-6e53-40bf-a31d-f3bf894c4961",
   "metadata": {},
   "outputs": [
    {
     "data": {
      "text/html": [
       "<div>\n",
       "<style scoped>\n",
       "    .dataframe tbody tr th:only-of-type {\n",
       "        vertical-align: middle;\n",
       "    }\n",
       "\n",
       "    .dataframe tbody tr th {\n",
       "        vertical-align: top;\n",
       "    }\n",
       "\n",
       "    .dataframe thead th {\n",
       "        text-align: right;\n",
       "    }\n",
       "</style>\n",
       "<table border=\"1\" class=\"dataframe\">\n",
       "  <thead>\n",
       "    <tr style=\"text-align: right;\">\n",
       "      <th></th>\n",
       "      <th>group_family_count</th>\n",
       "      <th>debtors_count</th>\n",
       "      <th>share_debtors</th>\n",
       "    </tr>\n",
       "    <tr>\n",
       "      <th>family_status</th>\n",
       "      <th></th>\n",
       "      <th></th>\n",
       "      <th></th>\n",
       "    </tr>\n",
       "  </thead>\n",
       "  <tbody>\n",
       "    <tr>\n",
       "      <th>вдовец / вдова</th>\n",
       "      <td>951</td>\n",
       "      <td>63</td>\n",
       "      <td>0.066246</td>\n",
       "    </tr>\n",
       "    <tr>\n",
       "      <th>в разводе</th>\n",
       "      <td>1189</td>\n",
       "      <td>84</td>\n",
       "      <td>0.070648</td>\n",
       "    </tr>\n",
       "    <tr>\n",
       "      <th>женат / замужем</th>\n",
       "      <td>12261</td>\n",
       "      <td>927</td>\n",
       "      <td>0.075606</td>\n",
       "    </tr>\n",
       "    <tr>\n",
       "      <th>гражданский брак</th>\n",
       "      <td>4134</td>\n",
       "      <td>385</td>\n",
       "      <td>0.093130</td>\n",
       "    </tr>\n",
       "    <tr>\n",
       "      <th>Не женат / не замужем</th>\n",
       "      <td>2796</td>\n",
       "      <td>273</td>\n",
       "      <td>0.097639</td>\n",
       "    </tr>\n",
       "  </tbody>\n",
       "</table>\n",
       "</div>"
      ],
      "text/plain": [
       "                       group_family_count  debtors_count  share_debtors\n",
       "family_status                                                          \n",
       "вдовец / вдова                        951             63       0.066246\n",
       "в разводе                            1189             84       0.070648\n",
       "женат / замужем                     12261            927       0.075606\n",
       "гражданский брак                     4134            385       0.093130\n",
       "Не женат / не замужем                2796            273       0.097639"
      ]
     },
     "metadata": {},
     "output_type": "display_data"
    }
   ],
   "source": [
    "display(relat_family_debt.sort_values(by = 'share_debtors',ascending = True))"
   ]
  },
  {
   "cell_type": "markdown",
   "id": "cc7551a0-8efe-4694-84c8-a79f2a6bbb17",
   "metadata": {},
   "source": [
    "**Вывод:**  Проанализировав данные таблицы relat_family_debt можно сделать вывод, что семейное положение влияет на возврат кредита в срок. Вдовцы и люди в разводе чаще выплачивают кредит в срок. Люди, живущие гражданиским браком и неженатые чаще всего имеют просрочку по возврату кредита в срок."
   ]
  },
  {
   "cell_type": "markdown",
   "id": "6183c07d-57e0-452c-96a9-b9a0a2bc1192",
   "metadata": {},
   "source": [
    "### Зависимость между уровнем дохода и возвратом кредита в срок"
   ]
  },
  {
   "cell_type": "markdown",
   "id": "85724614-936d-497a-8e31-576ad0d0dc61",
   "metadata": {},
   "source": [
    "Диапазон значений в столбце total_income_category (уровень дохода)\n",
    "- 0–30000 — `'E'`;\n",
    "- 30001–50000 — `'D'`;\n",
    "- 50001–200000 — `'C'`;\n",
    "- 200001–1000000 — `'B'`;\n",
    "- 1000001 и выше — `'A'`."
   ]
  },
  {
   "cell_type": "markdown",
   "id": "c1c23eb0-dd5d-491a-9faf-e8397f3ed584",
   "metadata": {},
   "source": [
    "Создадим датафрейм."
   ]
  },
  {
   "cell_type": "code",
   "execution_count": 34,
   "id": "8acacf89-7bde-4f95-80c8-9980a0343159",
   "metadata": {},
   "outputs": [],
   "source": [
    "relat_income_debt = pd.DataFrame()"
   ]
  },
  {
   "cell_type": "markdown",
   "id": "91a65607-b3ff-4be6-8460-9c094d97bbb4",
   "metadata": {},
   "source": [
    "Создадим новый столбец group_income_count в таблице relat_income_debt. В данном столбце будет отображатся общее количество людей в каждой группе."
   ]
  },
  {
   "cell_type": "code",
   "execution_count": 35,
   "id": "6d4e0f15-5fb2-40d1-ae45-f849189c363c",
   "metadata": {},
   "outputs": [],
   "source": [
    "relat_income_debt['group_income_count'] = data.groupby('total_income_category')['debt'].count()"
   ]
  },
  {
   "cell_type": "markdown",
   "id": "142a8dab-6386-4bf6-bc52-730c06243cfc",
   "metadata": {},
   "source": [
    "Создадим новый столбец debtors_count в таблице relat_income_debt. В данном столбце будет отображатся количество задолжников в каждой группе."
   ]
  },
  {
   "cell_type": "code",
   "execution_count": 36,
   "id": "2928b38a-f51d-4fc2-a6bf-376eeae6bdfd",
   "metadata": {},
   "outputs": [],
   "source": [
    "relat_income_debt['debtors_count'] = data.groupby('total_income_category')['debt'].sum()"
   ]
  },
  {
   "cell_type": "markdown",
   "id": "dafdd56c-09de-45de-8908-d0c5d0d55d9f",
   "metadata": {},
   "source": [
    "Создадим новый столбец share_debtors в таблице relat_income_debt. В данном столбце будет отображатся доля задолжников от общего количества людей в каждой группе."
   ]
  },
  {
   "cell_type": "code",
   "execution_count": 37,
   "id": "5e7b0dc2-a961-4014-b258-5f2aca8d4128",
   "metadata": {},
   "outputs": [],
   "source": [
    "relat_income_debt['share_debtors'] = relat_income_debt['debtors_count'] / relat_income_debt['group_income_count']"
   ]
  },
  {
   "cell_type": "markdown",
   "id": "fcb068f6-1bfb-413c-aa69-7d9e3686fdf4",
   "metadata": {},
   "source": [
    "Выведем на экран таблицу relat_income_debt, сортировав данные по доле задолжников (в порядке возрастания)."
   ]
  },
  {
   "cell_type": "code",
   "execution_count": 38,
   "id": "8721441b-c028-4d89-9994-8f7a2b80c253",
   "metadata": {},
   "outputs": [
    {
     "data": {
      "text/html": [
       "<div>\n",
       "<style scoped>\n",
       "    .dataframe tbody tr th:only-of-type {\n",
       "        vertical-align: middle;\n",
       "    }\n",
       "\n",
       "    .dataframe tbody tr th {\n",
       "        vertical-align: top;\n",
       "    }\n",
       "\n",
       "    .dataframe thead th {\n",
       "        text-align: right;\n",
       "    }\n",
       "</style>\n",
       "<table border=\"1\" class=\"dataframe\">\n",
       "  <thead>\n",
       "    <tr style=\"text-align: right;\">\n",
       "      <th></th>\n",
       "      <th>group_income_count</th>\n",
       "      <th>debtors_count</th>\n",
       "      <th>share_debtors</th>\n",
       "    </tr>\n",
       "    <tr>\n",
       "      <th>total_income_category</th>\n",
       "      <th></th>\n",
       "      <th></th>\n",
       "      <th></th>\n",
       "    </tr>\n",
       "  </thead>\n",
       "  <tbody>\n",
       "    <tr>\n",
       "      <th>E</th>\n",
       "      <td>22</td>\n",
       "      <td>2</td>\n",
       "      <td>0.090909</td>\n",
       "    </tr>\n",
       "    <tr>\n",
       "      <th>D</th>\n",
       "      <td>349</td>\n",
       "      <td>21</td>\n",
       "      <td>0.060172</td>\n",
       "    </tr>\n",
       "    <tr>\n",
       "      <th>C</th>\n",
       "      <td>15921</td>\n",
       "      <td>1353</td>\n",
       "      <td>0.084982</td>\n",
       "    </tr>\n",
       "    <tr>\n",
       "      <th>B</th>\n",
       "      <td>5014</td>\n",
       "      <td>354</td>\n",
       "      <td>0.070602</td>\n",
       "    </tr>\n",
       "    <tr>\n",
       "      <th>A</th>\n",
       "      <td>25</td>\n",
       "      <td>2</td>\n",
       "      <td>0.080000</td>\n",
       "    </tr>\n",
       "  </tbody>\n",
       "</table>\n",
       "</div>"
      ],
      "text/plain": [
       "                       group_income_count  debtors_count  share_debtors\n",
       "total_income_category                                                  \n",
       "E                                      22              2       0.090909\n",
       "D                                     349             21       0.060172\n",
       "C                                   15921           1353       0.084982\n",
       "B                                    5014            354       0.070602\n",
       "A                                      25              2       0.080000"
      ]
     },
     "metadata": {},
     "output_type": "display_data"
    }
   ],
   "source": [
    "display(relat_income_debt.sort_values(by = 'total_income_category',ascending = False))"
   ]
  },
  {
   "cell_type": "markdown",
   "id": "7189c314-6603-4b92-8dff-27cbb3fa938f",
   "metadata": {},
   "source": [
    "**Вывод:**  Люди с уровнем дохода меньше 30000 чаще других имеют просрочку по возврату кредита в срок. Люди, у которых уровнь дохода составляет от 30000–50000 реже имеют задолженности по кредитам, чем остальные группы людей. "
   ]
  },
  {
   "cell_type": "markdown",
   "id": "66eaf9b7-275e-47da-8a0a-afa74ccf0b7f",
   "metadata": {},
   "source": [
    "### Влияние разных целей кредита на его возврат в срок"
   ]
  },
  {
   "cell_type": "markdown",
   "id": "124cd956-5349-45b3-b9df-b58bb82ce42f",
   "metadata": {},
   "source": [
    "Создадим датафрейм"
   ]
  },
  {
   "cell_type": "code",
   "execution_count": 39,
   "id": "bcc7a0d6-e721-4ef3-aa3e-6393836e575a",
   "metadata": {},
   "outputs": [],
   "source": [
    "relat_purpose_debt = pd.DataFrame()"
   ]
  },
  {
   "cell_type": "markdown",
   "id": "04690104-eeec-4559-b07e-3127116958c8",
   "metadata": {},
   "source": [
    "Создадим новый столбец group_purpose_count в таблице relat_purpose_debt. В данном столбце будет отображатся общее количество людей в каждой группе."
   ]
  },
  {
   "cell_type": "code",
   "execution_count": 40,
   "id": "1f399e1f-ff3d-432c-ba96-dc664b1f6f00",
   "metadata": {},
   "outputs": [],
   "source": [
    "relat_purpose_debt['group_purpose_count'] = data.groupby('purpose_category')['debt'].count() "
   ]
  },
  {
   "cell_type": "markdown",
   "id": "9d8e3c4f-2aa0-4e3b-b2d9-ea6937992ad7",
   "metadata": {},
   "source": [
    "Создадим новый столбец debtors_count в таблице relat_income_debt. В данном столбце будет отображатся количество задолжников в каждой группе."
   ]
  },
  {
   "cell_type": "code",
   "execution_count": 41,
   "id": "433342e5-cd6f-47e6-a6d5-498a4f25625f",
   "metadata": {},
   "outputs": [],
   "source": [
    "relat_purpose_debt['debtors_count'] = data.groupby('purpose_category')['debt'].sum()"
   ]
  },
  {
   "cell_type": "markdown",
   "id": "4b3c2d8c-93f8-49f3-8e06-9e5a1c09cabd",
   "metadata": {},
   "source": [
    "Создадим новый столбец share_debtors в таблице relat_purpose_debt. В данном столбце будет отображатся доля задолжников от общего количества людей в каждой группе."
   ]
  },
  {
   "cell_type": "code",
   "execution_count": 42,
   "id": "24a9673f-4e84-4215-bc69-697ed6721cbf",
   "metadata": {},
   "outputs": [],
   "source": [
    "relat_purpose_debt['share_debtors'] = relat_purpose_debt['debtors_count'] / relat_purpose_debt['group_purpose_count']"
   ]
  },
  {
   "cell_type": "markdown",
   "id": "433e4d8e-b200-48da-ba00-29a927af910a",
   "metadata": {},
   "source": [
    "Выведем на экран таблицу relat_purpose_debt, сортировав данные по доле задолжников (в порядке возрастания)."
   ]
  },
  {
   "cell_type": "code",
   "execution_count": 43,
   "id": "9da16ea1-64d4-4525-bc0c-048741443255",
   "metadata": {},
   "outputs": [
    {
     "data": {
      "text/html": [
       "<div>\n",
       "<style scoped>\n",
       "    .dataframe tbody tr th:only-of-type {\n",
       "        vertical-align: middle;\n",
       "    }\n",
       "\n",
       "    .dataframe tbody tr th {\n",
       "        vertical-align: top;\n",
       "    }\n",
       "\n",
       "    .dataframe thead th {\n",
       "        text-align: right;\n",
       "    }\n",
       "</style>\n",
       "<table border=\"1\" class=\"dataframe\">\n",
       "  <thead>\n",
       "    <tr style=\"text-align: right;\">\n",
       "      <th></th>\n",
       "      <th>group_purpose_count</th>\n",
       "      <th>debtors_count</th>\n",
       "      <th>share_debtors</th>\n",
       "    </tr>\n",
       "    <tr>\n",
       "      <th>purpose_category</th>\n",
       "      <th></th>\n",
       "      <th></th>\n",
       "      <th></th>\n",
       "    </tr>\n",
       "  </thead>\n",
       "  <tbody>\n",
       "    <tr>\n",
       "      <th>операции с автомобилем</th>\n",
       "      <td>4279</td>\n",
       "      <td>400</td>\n",
       "      <td>0.093480</td>\n",
       "    </tr>\n",
       "    <tr>\n",
       "      <th>получение образования</th>\n",
       "      <td>3988</td>\n",
       "      <td>369</td>\n",
       "      <td>0.092528</td>\n",
       "    </tr>\n",
       "    <tr>\n",
       "      <th>проведение свадьбы</th>\n",
       "      <td>2313</td>\n",
       "      <td>183</td>\n",
       "      <td>0.079118</td>\n",
       "    </tr>\n",
       "    <tr>\n",
       "      <th>операции с недвижимостью</th>\n",
       "      <td>10751</td>\n",
       "      <td>780</td>\n",
       "      <td>0.072551</td>\n",
       "    </tr>\n",
       "  </tbody>\n",
       "</table>\n",
       "</div>"
      ],
      "text/plain": [
       "                          group_purpose_count  debtors_count  share_debtors\n",
       "purpose_category                                                           \n",
       "операции с автомобилем                   4279            400       0.093480\n",
       "получение образования                    3988            369       0.092528\n",
       "проведение свадьбы                       2313            183       0.079118\n",
       "операции с недвижимостью                10751            780       0.072551"
      ]
     },
     "metadata": {},
     "output_type": "display_data"
    }
   ],
   "source": [
    "display(relat_purpose_debt.sort_values(by = 'share_debtors',ascending = False))"
   ]
  },
  {
   "cell_type": "markdown",
   "id": "0842e622-179d-4e18-bee1-70f0fc96adba",
   "metadata": {},
   "source": [
    "**Вывод:**  Люди, получающие кредит на образование и операции, связанные с автомобилем чаще имеют просрочку по возврату кредита в срок, в отличие от люде, берущих кредиты на проведение свадеб и операции с недвижимостью."
   ]
  },
  {
   "cell_type": "markdown",
   "id": "f3dfbd94-bba1-4841-9df4-02b80bf285ca",
   "metadata": {},
   "source": [
    "### Возможные причины появления пропусков в исходных данных"
   ]
  },
  {
   "cell_type": "markdown",
   "id": "cca26b1b-c809-4546-a4e4-717bcd5f46c3",
   "metadata": {},
   "source": [
    "*Ответ:*  Так как пропуски в таблицы находятся в столбцах, связанных с трудовым стажем и ежемесячным доходом, то одной из возможных причин может быть сокрытие информации клиентом. \n",
    "\n",
    "Также еще одной возможной причиной может быть неправильный ввод информации или системный сбой. "
   ]
  },
  {
   "cell_type": "markdown",
   "id": "30214437-5888-4c8f-af26-dea88c5d698e",
   "metadata": {},
   "source": [
    "### Почему заполнить пропуски медианным значением — лучшее решение для количественных переменных"
   ]
  },
  {
   "cell_type": "markdown",
   "id": "87adebc7-0802-48c0-9b90-bb2b8c1150b3",
   "metadata": {},
   "source": [
    "*Ответ:*  Заполнять пропуски медианным значением лучше, чем среднем, так как в таблице могут быть данные, сильно отличающиеся от большинства. Из-за этого полученные данные среднем значением могут некорректно характеризовать данные."
   ]
  },
  {
   "cell_type": "markdown",
   "id": "113e6783-b21b-412e-9222-97a6ea46d619",
   "metadata": {},
   "source": [
    "## Общий вывод"
   ]
  },
  {
   "cell_type": "markdown",
   "id": "2fd12eb5-f699-4ec4-8eb2-03d4cb3810da",
   "metadata": {},
   "source": [
    "Проделав всю работу, можно сделать вывод:\n",
    "При оценке способности потенциального заёмщика вернуть кредит банку, необходимо уделять внимание семейному положению и количеству детей клиента, так как эти две характеристики влияют на факт погашения кредита в срок. \n",
    "Идеальным клиентом для банка является клиент без детей,бывший или находящийся в зарегистрированных отношениях, с уровнем дохода выше 30000, и получающий кредит на проведение свадеб и операции с недвижимостью.\n",
    "Худшим клиентом является клиент с 1,2,4 детьми, неженатый или находящийся в гражданском браке, с уровнем дохода ниже 30000, и получающий кредит на образование и операции, связанные с автомобилем. "
   ]
  }
 ],
 "metadata": {
  "kernelspec": {
   "display_name": "Python 3 (ipykernel)",
   "language": "python",
   "name": "python3"
  },
  "language_info": {
   "codemirror_mode": {
    "name": "ipython",
    "version": 3
   },
   "file_extension": ".py",
   "mimetype": "text/x-python",
   "name": "python",
   "nbconvert_exporter": "python",
   "pygments_lexer": "ipython3",
   "version": "3.11.3"
  },
  "toc": {
   "base_numbering": 1,
   "nav_menu": {},
   "number_sections": true,
   "sideBar": true,
   "skip_h1_title": true,
   "title_cell": "Содержание",
   "title_sidebar": "Содержание",
   "toc_cell": true,
   "toc_position": {
    "height": "calc(100% - 180px)",
    "left": "10px",
    "top": "150px",
    "width": "512px"
   },
   "toc_section_display": true,
   "toc_window_display": false
  }
 },
 "nbformat": 4,
 "nbformat_minor": 5
}
