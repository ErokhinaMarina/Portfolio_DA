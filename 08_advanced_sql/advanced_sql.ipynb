{
 "cells": [
  {
   "cell_type": "markdown",
   "id": "b0751bf1",
   "metadata": {},
   "source": [
    "# Задания"
   ]
  },
  {
   "cell_type": "markdown",
   "id": "d7dc5ca8",
   "metadata": {},
   "source": [
    "## Первая часть"
   ]
  },
  {
   "cell_type": "markdown",
   "id": "7accd34e",
   "metadata": {},
   "source": [
    "1. Найдите количество вопросов, которые набрали больше 300 очков или как минимум 100 раз были добавлены в «Закладки»."
   ]
  },
  {
   "cell_type": "code",
   "execution_count": null,
   "id": "b9ad4961",
   "metadata": {},
   "outputs": [],
   "source": [
    "SELECT COUNT(id)\n",
    "FROM stackoverflow.posts\n",
    "WHERE (score > 300 OR favorites_count >= 100) AND post_type_id = 1;"
   ]
  },
  {
   "cell_type": "markdown",
   "id": "cd44d1bb",
   "metadata": {},
   "source": [
    "2. Сколько в среднем в день задавали вопросов с 1 по 18 ноября 2008 включительно? Результат округлите до целого числа."
   ]
  },
  {
   "cell_type": "code",
   "execution_count": null,
   "id": "43ab6215",
   "metadata": {},
   "outputs": [],
   "source": [
    "WITH c AS\n",
    "(SELECT CAST(DATE_TRUNC('day',p.creation_date) AS date),\n",
    "        COUNT(p.id)\n",
    "FROM stackoverflow.posts p\n",
    "WHERE post_type_id = 1\n",
    "GROUP BY CAST(DATE_TRUNC('day',p.creation_date) AS date)\n",
    "HAVING CAST (DATE_TRUNC('day',p.creation_date) AS date) BETWEEN '01-11-2008' AND '18-11-2008')\n",
    "\n",
    "SELECT ROUND (AVG(count))\n",
    "FROM c;"
   ]
  },
  {
   "cell_type": "markdown",
   "id": "ec1b9bfe",
   "metadata": {},
   "source": [
    "3. Сколько пользователей получили значки сразу в день регистрации? Выведите количество уникальных пользователей."
   ]
  },
  {
   "cell_type": "code",
   "execution_count": null,
   "id": "2d37fed3",
   "metadata": {},
   "outputs": [],
   "source": [
    "SELECT COUNT(DISTINCT(u.id))\n",
    "FROM stackoverflow.users u\n",
    "JOIN stackoverflow.badges b ON u.id = b.user_id\n",
    "WHERE CAST(DATE_TRUNC('day', u.creation_date) AS date) = CAST(DATE_TRUNC('day', b.creation_date) AS date);"
   ]
  },
  {
   "cell_type": "markdown",
   "id": "9ed10662",
   "metadata": {},
   "source": [
    "4. Сколько уникальных постов пользователя с именем Joel Coehoorn получили хотя бы один голос?"
   ]
  },
  {
   "cell_type": "code",
   "execution_count": null,
   "id": "70a20be1",
   "metadata": {},
   "outputs": [],
   "source": [
    "SELECT COUNT(DISTINCT(p.id))\n",
    "FROM stackoverflow.posts p\n",
    "JOIN stackoverflow.users u ON p.user_id = u.id\n",
    "RIGHT JOIN stackoverflow.votes v ON p.id = v.post_id\n",
    "WHERE u.display_name LIKE 'Joel Coehoorn';"
   ]
  },
  {
   "cell_type": "markdown",
   "id": "6afc0537",
   "metadata": {},
   "source": [
    "5. Выгрузите все поля таблицы vote_types. Добавьте к таблице поле rank, в которое войдут номера записей в обратном порядке. Таблица должна быть отсортирована по полю id."
   ]
  },
  {
   "cell_type": "code",
   "execution_count": null,
   "id": "fbefccd8",
   "metadata": {},
   "outputs": [],
   "source": [
    "SELECT *,\n",
    "       RANK() OVER (ORDER BY id DESC)\n",
    "FROM stackoverflow.vote_types\n",
    "ORDER BY id;"
   ]
  },
  {
   "cell_type": "markdown",
   "id": "db130e6b",
   "metadata": {},
   "source": [
    "6. Отберите 10 пользователей, которые поставили больше всего голосов типа Close. Отобразите таблицу из двух полей: идентификатором пользователя и количеством голосов. Отсортируйте данные сначала по убыванию количества голосов, потом по убыванию значения идентификатора пользователя."
   ]
  },
  {
   "cell_type": "code",
   "execution_count": null,
   "id": "77f6c2c6",
   "metadata": {},
   "outputs": [],
   "source": [
    "SELECT v.user_id, \n",
    "       COUNT(v.id)\n",
    "FROM stackoverflow.votes v\n",
    "WHERE vote_type_id = 6\n",
    "GROUP BY v.user_id\n",
    "ORDER BY COUNT(v.id) DESC,\n",
    "         v.user_id DESC\n",
    "LIMIT 10;"
   ]
  },
  {
   "cell_type": "markdown",
   "id": "03919759",
   "metadata": {},
   "source": [
    "7. Отберите 10 пользователей по количеству значков, полученных в период с 15 ноября по 15 декабря 2008 года включительно.\n",
    "\n",
    "Отобразите несколько полей:\n",
    "\n",
    "* идентификатор пользователя;\n",
    "* число значков;\n",
    "* место в рейтинге — чем больше значков, тем выше рейтинг.\n",
    "\n",
    "Пользователям, которые набрали одинаковое количество значков, присвойте одно и то же место в рейтинге.\n",
    "Отсортируйте записи по количеству значков по убыванию, а затем по возрастанию значения идентификатора пользователя."
   ]
  },
  {
   "cell_type": "code",
   "execution_count": null,
   "id": "6d8448fd",
   "metadata": {},
   "outputs": [],
   "source": [
    "SELECT b.user_id, \n",
    "      COUNT(b.id), \n",
    "      DENSE_RANK() OVER (ORDER BY COUNT(b.id) DESC)\n",
    "FROM stackoverflow.badges b\n",
    "WHERE CAST(creation_date AS date) BETWEEN '2008-11-15' AND '2008-12-15'\n",
    "GROUP BY b.user_id\n",
    "ORDER BY COUNT(b.id) DESC,\n",
    "        b.user_id\n",
    "LIMIT 10;"
   ]
  },
  {
   "cell_type": "markdown",
   "id": "2089f15c",
   "metadata": {},
   "source": [
    "8. Сколько в среднем очков получает пост каждого пользователя?\n",
    "\n",
    "Сформируйте таблицу из следующих полей:\n",
    "\n",
    "* заголовок поста;\n",
    "* идентификатор пользователя;\n",
    "* число очков поста;\n",
    "* среднее число очков пользователя за пост, округлённое до целого числа.\n",
    "\n",
    "Не учитывайте посты без заголовка, а также те, что набрали ноль очков."
   ]
  },
  {
   "cell_type": "code",
   "execution_count": null,
   "id": "abf63edd",
   "metadata": {},
   "outputs": [],
   "source": [
    "SELECT title,\n",
    "        user_id,\n",
    "        score,\n",
    "        ROUND(AVG(score)OVER (PARTITION BY user_id))\n",
    "FROM stackoverflow.posts\n",
    "WHERE score <> 0 AND title IS NOT NULL;"
   ]
  },
  {
   "cell_type": "markdown",
   "id": "ed972c97",
   "metadata": {},
   "source": [
    "9. Отобразите заголовки постов, которые были написаны пользователями, получившими более 1000 значков. Посты без заголовков не должны попасть в список."
   ]
  },
  {
   "cell_type": "code",
   "execution_count": null,
   "id": "0f5e78ce",
   "metadata": {},
   "outputs": [],
   "source": [
    "SELECT title\n",
    "FROM stackoverflow.posts\n",
    "WHERE user_id IN\n",
    "(SELECT user_id FROM stackoverflow.badges GROUP BY user_id HAVING COUNT(id)>1000)\n",
    "AND title IS NOT NULL;"
   ]
  },
  {
   "cell_type": "markdown",
   "id": "2d08733a",
   "metadata": {},
   "source": [
    "10. Напишите запрос, который выгрузит данные о пользователях из США (англ. United States). Разделите пользователей на три группы в зависимости от количества просмотров их профилей:\n",
    "\n",
    "* пользователям с числом просмотров больше либо равным 350 присвойте группу 1;\n",
    "* пользователям с числом просмотров меньше 350, но больше либо равно 100 — группу 2;\n",
    "* пользователям с числом просмотров меньше 100 — группу 3.\n",
    "\n",
    "Отобразите в итоговой таблице идентификатор пользователя, количество просмотров профиля и группу. Пользователи с нулевым количеством просмотров не должны войти в итоговую таблицу."
   ]
  },
  {
   "cell_type": "code",
   "execution_count": null,
   "id": "578d6ea8",
   "metadata": {},
   "outputs": [],
   "source": [
    "SELECT id, \n",
    "       views,\n",
    "       CASE\n",
    "               WHEN views <100 THEN 3\n",
    "               WHEN views <350 THEN 2\n",
    "               WHEN views>=350 THEN 1\n",
    "END\n",
    "FROM stackoverflow.users\n",
    "WHERE location LIKE '%United States%' AND views > 0;"
   ]
  },
  {
   "cell_type": "markdown",
   "id": "bb3fe8c5",
   "metadata": {},
   "source": [
    "11. Дополните предыдущий запрос. Отобразите лидеров каждой группы — пользователей, которые набрали максимальное число просмотров в своей группе. Выведите поля с идентификатором пользователя, группой и количеством просмотров. Отсортируйте таблицу по убыванию просмотров, а затем по возрастанию значения идентификатора."
   ]
  },
  {
   "cell_type": "code",
   "execution_count": null,
   "id": "7e5bf322",
   "metadata": {},
   "outputs": [],
   "source": [
    "WITH tb AS\n",
    "    (SELECT id, \n",
    "            views,\n",
    "            CASE\n",
    "               WHEN views <100 THEN 3\n",
    "               WHEN views <350 THEN 2\n",
    "               WHEN views>=350 THEN 1\n",
    "END\n",
    "FROM stackoverflow.users\n",
    "WHERE location LIKE '%United States%' AND views > 0)\n",
    "\n",
    "SELECT *\n",
    "FROM tb\n",
    "WHERE id IN (16587,9585,9094,33437,15079,19006,22732,403434,4829,3469)\n",
    "ORDER BY views DESC, id;"
   ]
  },
  {
   "cell_type": "markdown",
   "id": "da573705",
   "metadata": {},
   "source": [
    "12. Посчитайте ежедневный прирост новых пользователей в ноябре 2008 года. Сформируйте таблицу с полями:\n",
    "\n",
    "* номер дня;\n",
    "* число пользователей, зарегистрированных в этот день;\n",
    "* сумму пользователей с накоплением."
   ]
  },
  {
   "cell_type": "code",
   "execution_count": null,
   "id": "05aeecb3",
   "metadata": {},
   "outputs": [],
   "source": [
    "WITH\n",
    "t1 AS\n",
    "    (SELECT CAST(DATE_TRUNC('day', creation_date) AS date) AS dt,\n",
    "     COUNT(id) AS val\n",
    "FROM stackoverflow.users\n",
    "GROUP BY CAST(DATE_TRUNC('day', creation_date) AS date)\n",
    "ORDER BY CAST(DATE_TRUNC('day', creation_date) AS date))\n",
    "\n",
    "SELECT RANK() OVER(ORDER BY dt) ,\n",
    "       val,\n",
    "       SUM(val) OVER (ORDER BY dt) AS cum\n",
    "FROM t1 \n",
    "WHERE CAST(DATE_TRUNC('day', dt) AS date) BETWEEN '2008-11-01' AND '2008-11-30';"
   ]
  },
  {
   "cell_type": "markdown",
   "id": "bd42d64b",
   "metadata": {},
   "source": [
    "13. Для каждого пользователя, который написал хотя бы один пост, найдите интервал между регистрацией и временем создания первого поста. Отобразите:\n",
    "\n",
    "* идентификатор пользователя;\n",
    "* разницу во времени между регистрацией и первым постом."
   ]
  },
  {
   "cell_type": "code",
   "execution_count": null,
   "id": "36c9d464",
   "metadata": {},
   "outputs": [],
   "source": [
    "WITH p AS \n",
    "    (SELECT user_id, \n",
    "            creation_date,\n",
    "            RANK() OVER (PARTITION BY user_id ORDER BY creation_date)  AS first_pub\n",
    "FROM stackoverflow.posts \n",
    "ORDER BY user_id)\n",
    "\n",
    "SELECT user_id, \n",
    "       p.creation_date - u.creation_date FROM p\n",
    "JOIN stackoverflow.users u ON p.user_id = u.id\n",
    "WHERE first_pub = 1;"
   ]
  },
  {
   "cell_type": "markdown",
   "id": "bf0a6ece",
   "metadata": {},
   "source": [
    "## Вторая часть"
   ]
  },
  {
   "cell_type": "markdown",
   "id": "4f7688dd",
   "metadata": {},
   "source": [
    "1. Выведите общую сумму просмотров постов за каждый месяц 2008 года. Если данных за какой-либо месяц в базе нет, такой месяц можно пропустить. Результат отсортируйте по убыванию общего количества просмотров."
   ]
  },
  {
   "cell_type": "code",
   "execution_count": null,
   "id": "805e1ff3",
   "metadata": {},
   "outputs": [],
   "source": [
    "SELECT CAST(DATE_TRUNC('month',creation_date) AS date) AS month,\n",
    "       SUM(views_count) AS sum\n",
    "FROM stackoverflow.posts\n",
    "WHERE creation_date::date BETWEEN '01-01-2008' AND '31-12-2008'\n",
    "GROUP BY CAST(DATE_TRUNC('month',creation_date) AS date)\n",
    "ORDER BY sum DESC;"
   ]
  },
  {
   "cell_type": "markdown",
   "id": "db6800b2",
   "metadata": {},
   "source": [
    "2. Выведите имена самых активных пользователей, которые в первый месяц после регистрации (включая день регистрации) дали больше 100 ответов. Вопросы, которые задавали пользователи, не учитывайте. Для каждого имени пользователя выведите количество уникальных значений user_id. Отсортируйте результат по полю с именами в лексикографическом порядке."
   ]
  },
  {
   "cell_type": "code",
   "execution_count": null,
   "id": "dc10a2bb",
   "metadata": {},
   "outputs": [],
   "source": [
    "SELECT display_name,\n",
    "       COUNT(DISTINCT(user_id))\n",
    "FROM stackoverflow.users u\n",
    "JOIN stackoverflow.posts p ON u.id=p.user_id\n",
    "JOIN stackoverflow.post_types pt ON p.post_type_id=pt.id\n",
    "WHERE (DATE_TRUNC('day', p.creation_date) <= DATE_TRUNC('day', u.creation_date) + INTERVAL '1 month') AND (p.post_type_id=2)\n",
    "GROUP BY display_name\n",
    "HAVING COUNT(p.id) > 100;"
   ]
  },
  {
   "cell_type": "markdown",
   "id": "15403e28",
   "metadata": {},
   "source": [
    "3. Выведите количество постов за 2008 год по месяцам. Отберите посты от пользователей, которые зарегистрировались в сентябре 2008 года и сделали хотя бы один пост в декабре того же года. Отсортируйте таблицу по значению месяца по убыванию."
   ]
  },
  {
   "cell_type": "code",
   "execution_count": null,
   "id": "4990d7e1",
   "metadata": {},
   "outputs": [],
   "source": [
    "WITH op AS\n",
    "    (SELECT u.id\n",
    "    FROM stackoverflow.users u\n",
    "    JOIN stackoverflow.posts p ON u.id=p.user_id\n",
    "    WHERE (u.creation_date::date BETWEEN '01-09-2008' AND '30-09-2008')\n",
    "    AND(p.creation_date::date BETWEEN '01-12-2008' AND '31-12-2008')\n",
    "    GROUP BY u.id)\n",
    "    \n",
    "SELECT CAST(DATE_TRUNC('month',p.creation_date) AS date) AS month,\n",
    "       COUNT(p.id) AS cnt\n",
    "FROM stackoverflow.users AS u \n",
    "JOIN stackoverflow.posts AS p ON u.id=p.user_id\n",
    "WHERE (p.creation_date::date BETWEEN '2008-01-01' AND '2008-12-31')\n",
    "AND p.user_id IN (SELECT * \n",
    "                  FROM op)\n",
    "GROUP BY CAST(DATE_TRUNC('month', p.creation_date) AS date)\n",
    "ORDER BY CAST(DATE_TRUNC('month', p.creation_date) AS date) DESC;"
   ]
  },
  {
   "cell_type": "markdown",
   "id": "9bc9072d",
   "metadata": {},
   "source": [
    "4. Используя данные о постах, выведите несколько полей:\n",
    "\n",
    "* идентификатор пользователя, который написал пост;\n",
    "* дата создания поста;\n",
    "* количество просмотров у текущего поста;\n",
    "* сумму просмотров постов автора с накоплением.\n",
    "\n",
    "Данные в таблице должны быть отсортированы по возрастанию идентификаторов пользователей, а данные об одном и том же пользователе — по возрастанию даты создания поста."
   ]
  },
  {
   "cell_type": "code",
   "execution_count": null,
   "id": "d4a86597",
   "metadata": {},
   "outputs": [],
   "source": [
    "SELECT user_id,\n",
    "       creation_date,\n",
    "       views_count,\n",
    "       SUM(views_count) OVER (PARTITION BY user_id ORDER BY creation_date)\n",
    "FROM stackoverflow.posts\n",
    "ORDER BY user_id,\n",
    "       creation_date;"
   ]
  },
  {
   "cell_type": "markdown",
   "id": "6df30020",
   "metadata": {},
   "source": [
    "5. Сколько в среднем дней в период с 1 по 7 декабря 2008 года включительно пользователи взаимодействовали с платформой? Для каждого пользователя отберите дни, в которые он или она опубликовали хотя бы один пост. Нужно получить одно целое число — не забудьте округлить результат."
   ]
  },
  {
   "cell_type": "code",
   "execution_count": null,
   "id": "83630873",
   "metadata": {},
   "outputs": [],
   "source": [
    "WITH op AS\n",
    "    (SELECT user_id,\n",
    "            COUNT(DISTINCT(creation_date::date))\n",
    "     FROM stackoverflow.posts\n",
    "     WHERE CAST(creation_date AS date) BETWEEN '01-12-2008' AND '07-12-2008'\n",
    "     GROUP BY user_id\n",
    "     HAVING COUNT(id)>=1)\n",
    "     \n",
    "SELECT ROUND(AVG(count))\n",
    "FROM op;"
   ]
  },
  {
   "cell_type": "markdown",
   "id": "c7fda91c",
   "metadata": {},
   "source": [
    "6. На сколько процентов менялось количество постов ежемесячно с 1 сентября по 31 декабря 2008 года? Отобразите таблицу со следующими полями:\n",
    "\n",
    "* номер месяца;\n",
    "* количество постов за месяц;\n",
    "* процент, который показывает, насколько изменилось количество постов в текущем месяце по сравнению с предыдущим.\n",
    "\n",
    "Если постов стало меньше, значение процента должно быть отрицательным, если больше — положительным. Округлите значение процента до двух знаков после запятой.\n",
    "Напомним, что при делении одного целого числа на другое в PostgreSQL в результате получится целое число, округлённое до ближайшего целого вниз. Чтобы этого избежать, переведите делимое в тип numeric."
   ]
  },
  {
   "cell_type": "code",
   "execution_count": null,
   "id": "1b18c54f",
   "metadata": {},
   "outputs": [],
   "source": [
    "WITH a AS \n",
    "    (SELECT EXTRACT(month from creation_date) AS num, \n",
    "            COUNT(id) AS cnt\n",
    "     FROM stackoverflow.posts\n",
    "     WHERE  creation_date::date BETWEEN '2008-09-01' AND '2008-12-31'\n",
    "     GROUP BY 1)\n",
    "\n",
    "SELECT num, \n",
    "       cnt,\n",
    "       ROUND(((cnt::numeric/LAG(cnt) OVER (ORDER BY num))-1)*100,2)\n",
    "FROM a;"
   ]
  },
  {
   "cell_type": "markdown",
   "id": "2044f37b",
   "metadata": {},
   "source": [
    "7. Выгрузите данные активности пользователя, который опубликовал больше всего постов за всё время. Выведите данные за октябрь 2008 года в таком виде:\n",
    "\n",
    "* номер недели;\n",
    "* дата и время последнего поста, опубликованного на этой неделе."
   ]
  },
  {
   "cell_type": "code",
   "execution_count": null,
   "id": "6d20c276",
   "metadata": {},
   "outputs": [],
   "source": [
    "SELECT DISTINCT(EXTRACT(week FROM creation_date::date)),\n",
    "       MAX(creation_date) OVER (ORDER BY EXTRACT(week FROM creation_date::date))\n",
    "FROM stackoverflow.posts\n",
    "WHERE user_id = 22656\n",
    "AND creation_date::date BETWEEN '2008-10-01' AND '2008-10-31';"
   ]
  }
 ],
 "metadata": {
  "kernelspec": {
   "display_name": "Python 3 (ipykernel)",
   "language": "python",
   "name": "python3"
  },
  "language_info": {
   "codemirror_mode": {
    "name": "ipython",
    "version": 3
   },
   "file_extension": ".py",
   "mimetype": "text/x-python",
   "name": "python",
   "nbconvert_exporter": "python",
   "pygments_lexer": "ipython3",
   "version": "3.11.3"
  },
  "toc": {
   "base_numbering": 1,
   "nav_menu": {},
   "number_sections": true,
   "sideBar": true,
   "skip_h1_title": true,
   "title_cell": "Table of Contents",
   "title_sidebar": "Contents",
   "toc_cell": true,
   "toc_position": {},
   "toc_section_display": true,
   "toc_window_display": false
  }
 },
 "nbformat": 4,
 "nbformat_minor": 5
}
